{
 "cells": [
  {
   "cell_type": "markdown",
   "metadata": {},
   "source": [
    "# **Automatic Summarization**\n",
    "\n",
    "Algortimo semplice:\n",
    "1. individua argomento del testo come una lista di vettori di Nasari (termine1, score1, termine2, score2, ...)\n",
    "2. crea contesto raccogliendo vettori dei termini trovati al passo prima. Nel caso in cui il titolo sia troppo corto (e quindi poco informativo) posso cercare vettori di elementi che fanno parte delle definizioni dei termini trovati al passo 1\n",
    "3. peso i paragrafi in base alla somma dei pesi dei termini che fanno parte del contesto con la Weighted Overlap. Mantengo solo i paragrafi che hanno un peso maggiore di una soglia\n",
    "\n",
    "Valutazione:\n",
    "- BLEU\n",
    "- ROUGE"
   ]
  },
  {
   "cell_type": "code",
   "execution_count": 37,
   "metadata": {},
   "outputs": [],
   "source": [
    "import nltk\n",
    "from nltk.tokenize import word_tokenize\n",
    "from nltk.stem import WordNetLemmatizer\n",
    "import random\n",
    "import math"
   ]
  },
  {
   "cell_type": "code",
   "execution_count": 38,
   "metadata": {},
   "outputs": [],
   "source": [
    "doc_paths = ['/Users/jak/Documents/Uni/TLN/TLN/Radicioni/data/docs/Andy-Warhol.txt',\n",
    "'/Users/jak/Documents/Uni/TLN/TLN/Radicioni/data/docs/Ebola-virus-disease.txt',\n",
    "'/Users/jak/Documents/Uni/TLN/TLN/Radicioni/data/docs/Life-indoors.txt',\n",
    "'/Users/jak/Documents/Uni/TLN/TLN/Radicioni/data/docs/Napoleon-wiki.txt', \n",
    "'/Users/jak/Documents/Uni/TLN/TLN/Radicioni/data/docs/Trump-wall.txt']"
   ]
  },
  {
   "cell_type": "markdown",
   "metadata": {},
   "source": [
    "### Funzioni di utility per il preprocessing"
   ]
  },
  {
   "cell_type": "code",
   "execution_count": 66,
   "metadata": {},
   "outputs": [],
   "source": [
    "# Useful to remove punctuation from first or last char of a token \n",
    "# - Esempio: senza questa funzione \"It's\" diventa \"It\" e \"'s\"\n",
    "# - It viene eliminato perchè è una stopword, mentre 's non viene eliminato perchè non rientra nè tra le stopwords nè tra la punteggiatura\n",
    "# - Con questa funzione rimuovo ' da 's e poi rimuovo nuovamente eventuali stopwords.\n",
    "def remove_first_last(tokens, punct, stop):\n",
    "    for i in range(len(tokens)):\n",
    "        for p in punct:\n",
    "            if tokens[i].startswith(p):\n",
    "                tokens[i] = tokens[i][1:]\n",
    "            if tokens[i].endswith(p):\n",
    "                tokens[i] = tokens[i][:-1]\n",
    "    tokens = [t for t in tokens if t not in stop]\n",
    "    return tokens\n",
    "\n",
    "# Remove stopwords and punctuation from the text, tokenize it and lemmatize it\n",
    "def preprocess(text):\n",
    "    text = text.lower()\n",
    "    stop = []\n",
    "    with open('/Users/jak/Documents/Uni/TLN/TLN/Radicioni/data/stop_words_FULL.txt', 'r') as f:\n",
    "        stop = f.read().splitlines()\n",
    "    stop = set(stop)\n",
    "    punct = ['.', ',', '!', '?', ':', ';', '(', ')', '[', ']', '{', '}', '\"', \"'\", '``', \"''\", '...', '’', '“', '”', '‘', '-', '$', '–']\n",
    "    tokens = word_tokenize(text)\n",
    "    tokens = [t for t in tokens if t not in stop and t not in punct]\n",
    "    lemmatizer = WordNetLemmatizer()\n",
    "    tokens = list(set([lemmatizer.lemmatize(t) for t in tokens]))\n",
    "    tokens = remove_first_last(tokens, punct, stop)\n",
    "    return tokens\n",
    "\n",
    "# try preprocessing\n",
    "# preprocess(\"This is a test. It's a test of the pre-processing system. Millions of people are using it. - $35 Jak Jak! !Jak jak\")"
   ]
  },
  {
   "cell_type": "markdown",
   "metadata": {},
   "source": [
    "### Parsing del file di input Nasari e creazione dizionario di vettori Nasari"
   ]
  },
  {
   "cell_type": "code",
   "execution_count": 40,
   "metadata": {},
   "outputs": [],
   "source": [
    "# Parsing the Nasari file and creating a dictionary with:\n",
    "# - key: word\n",
    "# - value: dictionary with:\n",
    "#          - key: lemma\n",
    "#          - value: score\n",
    "nasari = {}\n",
    "with open('/Users/jak/Documents/Uni/TLN/TLN/Radicioni/data/dd-small-nasari-15.txt', 'r') as f:\n",
    "    lines = [line.rstrip('\\n') for line in f]\n",
    "    for line in lines:\n",
    "        line = line.split(';')\n",
    "        tmp = {}\n",
    "        for lemma in line[2:]:\n",
    "            lemma = lemma.split('_')\n",
    "            if len(lemma) > 1:\n",
    "                tmp[lemma[0]] = lemma[1]\n",
    "        nasari[line[1].lower()] = tmp\n",
    "\n",
    "# nasari"
   ]
  },
  {
   "cell_type": "markdown",
   "metadata": {},
   "source": [
    "### Salvo i documenti di input\n",
    "\n",
    "Rendo ogni documento una lista di paragrafi"
   ]
  },
  {
   "cell_type": "code",
   "execution_count": 41,
   "metadata": {},
   "outputs": [],
   "source": [
    "# Save document\n",
    "def save_doc(filename):\n",
    "    doc = []\n",
    "    with open(filename, 'r') as f:\n",
    "        lines = [line.rstrip('\\n') for line in f]\n",
    "        for line in lines:\n",
    "            if '#' not in line and line != '': # remove empty lines and the first line with the link\n",
    "                doc.append(line)\n",
    "    return doc\n",
    "\n",
    "# try save_doc\n",
    "# save_doc('/Users/jak/Documents/Uni/TLN/TLN/Radicioni/data/docs/Ebola-virus-disease.txt')"
   ]
  },
  {
   "cell_type": "markdown",
   "metadata": {},
   "source": [
    "## 1. Individuate the topic"
   ]
  },
  {
   "cell_type": "code",
   "execution_count": 42,
   "metadata": {},
   "outputs": [],
   "source": [
    "# Get title from document, considering the first line\n",
    "def get_title(filename):\n",
    "    doc = save_doc(filename)\n",
    "    return doc[0]\n",
    "    # return preprocess(doc[0])\n",
    "\n",
    "# Get topic words from the text checking if they are in the Nasari dictionary\n",
    "def get_topic_words(text):\n",
    "    tokens = preprocess(text)\n",
    "    topic_words = [t for t in tokens if t in nasari.keys()]\n",
    "    return topic_words\n",
    "\n",
    "# so far used only for testing\n",
    "# Get random paragraph topic words from the document (not the title)\n",
    "def get_random_paragraph(filename):\n",
    "    doc = save_doc(filename)\n",
    "    paragraph = random.choice(doc[1:])\n",
    "    return paragraph\n",
    "\n",
    "# print(get_title('/Users/jak/Documents/Uni/TLN/TLN/Radicioni/data/docs/Life-indoors.txt'))\n",
    "# print(get_topic_words(get_title('/Users/jak/Documents/Uni/TLN/TLN/Radicioni/data/docs/Life-indoors.txt')))\n",
    "# get_random_paragraph('/Users/jak/Documents/Uni/TLN/TLN/Radicioni/data/docs/Ebola-virus-disease.txt')"
   ]
  },
  {
   "cell_type": "markdown",
   "metadata": {},
   "source": [
    "## 2. Create the context"
   ]
  },
  {
   "cell_type": "code",
   "execution_count": 43,
   "metadata": {},
   "outputs": [],
   "source": [
    "# Create the context for a document title \n",
    "# - It return a list of dictionaries associated to the topic words of the title if they are in the Nasari dictionary\n",
    "def create_context(list):\n",
    "    topic_words = get_topic_words(list)\n",
    "    context_vector = [nasari[word] for word in topic_words]\n",
    "    return context_vector\n",
    "\n",
    "# Create the context for a paragraph\n",
    "# - It returns a list of dictionaries associated to the topic words of the paragraph if they are in the Nasari dictionary\n",
    "def create_paragraph_context(paragraph):\n",
    "    topic = [w for w in paragraph if w in nasari.keys()]\n",
    "    context_vector = [nasari[word] for word in topic]\n",
    "    return context_vector\n",
    "\n",
    "# try create_paragraph_context\n",
    "# for i in range(10):\n",
    "#     topic_words, paragraph = get_random_paragraph('/Users/jak/Documents/Uni/TLN/TLN/Radicioni/data/docs/Life-indoors.txt')\n",
    "#     print(topic_words)\n",
    "#     # print(paragraph)\n",
    "#     print(create_paragraph_context(paragraph))\n",
    "# create_paragraph_context(get_random_paragraph('/Users/jak/Documents/Uni/TLN/TLN/Radicioni/data/docs/Ebola-virus-disease.txt')[1])\n",
    "# create_context(get_title('/Users/jak/Documents/Uni/TLN/TLN/Radicioni/data/docs/Ebola-virus-disease.txt'))\n"
   ]
  },
  {
   "cell_type": "markdown",
   "metadata": {},
   "source": [
    "## 3. Retain paragraphs whose sentences contain the most salient terms, based on the Weighted Overlap"
   ]
  },
  {
   "cell_type": "markdown",
   "metadata": {},
   "source": [
    "### Implementazione della Weighted Overlap"
   ]
  },
  {
   "cell_type": "code",
   "execution_count": 44,
   "metadata": {},
   "outputs": [],
   "source": [
    "# Get overlap between a text topic words vectors and a paragraph topic words \n",
    "def get_overlap(context, paragraph):\n",
    "    overlap = set()\n",
    "    for w in paragraph:\n",
    "        for dict in context:\n",
    "            if w in dict.keys():\n",
    "                overlap.add(w)\n",
    "    return overlap\n",
    "\n",
    "# Get rank as the position of a lemma in the vector\n",
    "def get_rank(lemma, vector):\n",
    "    min = math.inf\n",
    "    for dict in vector:\n",
    "        i = 1\n",
    "        for key in dict.keys():\n",
    "            if key == lemma:\n",
    "                if i < min:\n",
    "                    min = i\n",
    "            i += 1\n",
    "    return min\n",
    "\n",
    "# Compute weighted overlap between two vectors\n",
    "def weighted_overlap(context, paragraph, par_context):\n",
    "    overlap = get_overlap(context, paragraph)\n",
    "    # print(f'overlap: {overlap}')\n",
    "    # print(f'lenght: {len(overlap)}')\n",
    "    if overlap:\n",
    "        i = 1\n",
    "        num = 0\n",
    "        den = 0\n",
    "        for lemma in overlap:\n",
    "            den += get_rank(lemma, context) + get_rank(lemma, par_context) # This should be the num but since it is to the power of -1 I can put it in the den\n",
    "            num += 2 * i # This should be the den but since it is to the power of -1 I can put it in the num\n",
    "            i += 1\n",
    "            # print(f'lemma: {lemma}, title rank: {get_rank(lemma, context)}, paragraph rank: {get_rank(lemma, par_context)}')\n",
    "            # print(f'total rank: {get_rank(lemma, context) + get_rank(lemma, par_context)}')\n",
    "            # print(f'num: {num}, den: {den}')\n",
    "        return num / den\n",
    "    return 0\n",
    "\n",
    "# for i in range(4):\n",
    "#     par_processed = get_random_paragraph('/Users/jak/Documents/Uni/TLN/TLN/Radicioni/data/docs/Life-indoors.txt')\n",
    "#     title = get_title('/Users/jak/Documents/Uni/TLN/TLN/Radicioni/data/docs/Life-indoors.txt')\n",
    "#     context = create_context(title)\n",
    "#     par_processed = preprocess(par_processed)\n",
    "#     par_context = create_paragraph_context(par_processed)\n",
    "#     print(weighted_overlap(context, par_processed, par_context))\n",
    "#     print('-' * 70)\n"
   ]
  },
  {
   "cell_type": "markdown",
   "metadata": {},
   "source": [
    "## Calcolo della Weighted Overlap per ogni paragrafo di un documento"
   ]
  },
  {
   "cell_type": "code",
   "execution_count": 45,
   "metadata": {},
   "outputs": [
    {
     "name": "stdout",
     "output_type": "stream",
     "text": [
      "Andy Warhol: Why the great Pop artist thought ‘Trump is sort of cheap’\n",
      "[1.0, 0, 1.0, 1.0, 0, 0.5, 1.0, 0.0, 0.3333333333333333, 0, 1.0, 0.35294117647058826, 0, 0.0, 0, 0, 0, 0, 1.0]\n",
      "----------------------------------------------------------------------\n",
      "Ebola virus disease\n",
      "[1.5384615384615385, 0.75, 0.75, 1.2, 0.4, 0, 0.8571428571428571, 0.4, 0, 0.4, 0, 0.4, 0, 0.5, 0, 1.5, 0, 0.48, 1.0891089108910892, 0, 1.5384615384615385, 1.0, 1.0909090909090908, 0.5, 1.3333333333333333, 0.0, 1.5]\n",
      "----------------------------------------------------------------------\n",
      "How people around the world are coping with life indoors\n",
      "[0.6, 0.6, 0.6, 0, 0, 0.18181818181818182, 0.4, 0.3333333333333333, 0, 0, 0.3333333333333333, 0.3333333333333333]\n",
      "----------------------------------------------------------------------\n",
      "Napoleone Bonaparte.\n",
      "[0, 0, 0, 0, 0, 0, 0, 0, 0, 0, 0, 0, 0, 0, 0, 0, 0]\n",
      "----------------------------------------------------------------------\n",
      "The Trump wall, commonly referred to as \"The Wall\", was an expansion of the Mexico–United States barrier during the U.S. presidency of Donald Trump. Throughout his 2016 presidential campaign, Trump called for the construction of a border wall. He said that, if elected, he would \"build the wall and make Mexico pay for it\". Then-Mexican president Enrique Peña Nieto said that Mexico would not pay for the wall.\n",
      "[0.0, 0.0, 0.8571428571428571, 0, 0.0, 0.5, 0.4, 0.0, 0, 0.75, 0.75, 0.75, 0.0, 0.0, 0.0, 0.75, 0, 0, 0.0, 0, 0.7142857142857143, 0, 0.0, 0.0, 0, 0.7142857142857143, 0.5263157894736842, 0.46153846153846156, 0.7894736842105263, 0.5, 0.375, 0, 0, 0.0, 0.0, 0.0, 1.105263157894737, 0, 0, 1.0, 0.0, 0.75, 0.8333333333333334, 0.0, 0.0, 0.0, 0.0, 0.6666666666666666, 1.135135135135135, 0.0, 0.0, 0.0, 0.9375, 0.0, 0, 0.0, 0.0, 0, 1.0, 0.5, 0.8108108108108109, 1.6666666666666667]\n",
      "----------------------------------------------------------------------\n"
     ]
    }
   ],
   "source": [
    "# Compute the weighted overlap between a document title and all the paragraphs\n",
    "def weight_doc(filename):\n",
    "    title = get_title(filename)\n",
    "    context = create_context(title)\n",
    "    doc = save_doc(filename)\n",
    "    paragraphs = [preprocess(par) for par in doc[1:]]\n",
    "    par_context = [create_paragraph_context(par) for par in paragraphs]\n",
    "    weighted_overlap_list = [weighted_overlap(context, paragraphs[i], par_context[i]) for i in range(len(paragraphs))]\n",
    "    return weighted_overlap_list\n",
    "\n",
    "for path in doc_paths:\n",
    "    print(get_title(path))\n",
    "    print(weight_doc(path))\n",
    "    print('-' * 70)"
   ]
  },
  {
   "cell_type": "markdown",
   "metadata": {},
   "source": [
    "## Selezione dei paragrafi migliori\n",
    "\n",
    "Verrà selezionato il 70 - 80 - 90% dei paragrafi con peso maggiore, a seconda della percentuale richiesta"
   ]
  },
  {
   "cell_type": "code",
   "execution_count": 83,
   "metadata": {},
   "outputs": [
    {
     "name": "stdout",
     "output_type": "stream",
     "text": [
      "threshold with percentage 70.0%: 19 out of 27 paragraphs\n"
     ]
    },
    {
     "data": {
      "text/plain": [
       "['Ebola virus disease',\n",
       " 'Ebola virus disease (EVD), or simply Ebola, is a viral haemorrhagic fever of humans and other primates caused by ebolaviruses. Signs and symptoms typically start between two days and three weeks after contracting the virus with a fever, sore throat, muscular pain, and headaches. Vomiting, diarrhoea and rash usually follow, along with decreased function of the liver and kidneys. At this time, some people begin to bleed both internally and externally. The disease has a high risk of death, killing 25% to 90% of those infected, with an average of about 50%. This is often due to low blood pressure from fluid loss, and typically follows six to 16 days after symptoms appear.',\n",
       " 'It is believed that between people, Ebola disease spreads only by direct contact with the blood or other body fluids of a person who has developed symptoms of the disease. Body fluids that may contain Ebola viruses include saliva, mucus, vomit, feces, sweat, tears, breast milk, urine and semen. The WHO states that only people who are very sick are able to spread Ebola disease in saliva, and whole virus has not been reported to be transmitted through sweat. Most people spread the virus through blood, feces and vomit. Entry points for the virus include the nose, mouth, eyes, open wounds, cuts and abrasions. Ebola may be spread through large droplets; however, this is believed to occur only when a person is very sick. This contamination can happen if a person is splashed with droplets. Contact with surfaces or objects contaminated by the virus, particularly needles and syringes, may also transmit the infection. The virus is able to survive on objects for a few hours in a dried state, and can survive for a few days within body fluids outside of a person.',\n",
       " 'EVD in humans is caused by four of five viruses of the genus Ebolavirus. The four are Bundibugyo virus (BDBV), Sudan virus (SUDV), Taï Forest virus (TAFV) and one simply called Ebola virus (EBOV, formerly Zaire Ebola virus). EBOV, species Zaire ebolavirus, is the most dangerous of the known EVD-causing viruses, and is responsible for the largest number of outbreaks. The fifth virus, Reston virus (RESTV), is not thought to cause disease in humans, but has caused disease in other primates. All five viruses are closely related to marburgviruses.',\n",
       " 'Airborne transmission among humans is theoretically possible due to the presence of Ebola virus particles in saliva, which can be discharged into the air with a cough or sneeze, but observational data from previous epidemics suggests the actual risk of airborne transmission is low. A number of studies examining airborne transmission broadly concluded that transmission from pigs to primates could happen without direct contact because, unlike humans and primates, pigs with EVD get very high ebolavirus concentrations in their lungs, and not their bloodstream. Therefore, pigs with EVD can spread the disease through droplets in the air or on the ground when they sneeze or cough. By contrast, humans and other primates accumulate the virus throughout their body and specifically in their blood, but not very much in their lungs. It is believed that this is the reason researchers have observed pig to primate transmission without physical contact, but no evidence has been found of primates being infected without actual contact, even in experiments where infected and uninfected primates shared the same air.',\n",
       " 'Health-care workers treating people with Ebola are at greatest risk of infection. The risk increases when they do not have appropriate protective clothing such as masks, gowns, gloves and eye protection; do not wear it properly; or handle contaminated clothing incorrectly. This risk is particularly common in parts of Africa where the disease mostly occurs and health systems function poorly. There has been transmission in hospitals in some African countries that reuse hypodermic needles. Some health-care centres caring for people with the disease do not have running water. In the United States the spread to two medical workers treating infected patients prompted criticism of inadequate training and procedures.',\n",
       " 'The disease was first identified in 1976, in two simultaneous outbreaks: one in Nzara (a town in South Sudan) and the other in Yambuku (Democratic Republic of the Congo), a village near the Ebola River from which the disease takes its name. EVD outbreaks occur intermittently in tropical regions of sub-Saharan Africa. Between 1976 and 2013, the World Health Organization reports 24 outbreaks involving 2,387 cases with 1,590 deaths. The largest outbreak to date was the epidemic in West Africa, which occurred from December 2013 to January 2016, with 28,646 cases and 11,323 deaths. It was declared no longer an emergency on 29 March 2016. Other outbreaks in Africa began in the Democratic Republic of the Congo in May 2017, and 2018. In July 2019, the World Health Organization declared the Congo Ebola outbreak a world health emergency.',\n",
       " 'The potential for widespread infections in countries with medical systems capable of observing correct medical isolation procedures is considered low. Usually when someone has symptoms of the disease, they are unable to travel without assistance.',\n",
       " \"Their life cycle is thought to begin with a virion attaching to specific cell-surface receptors such as C-type lectins, DC-SIGN, or integrins, which is followed by fusion of the viral envelope with cellular membranes. The virions taken up by the cell then travel to acidic endosomes and lysosomes where the viral envelope glycoprotein GP is cleaved. This processing appears to allow the virus to bind to cellular proteins enabling it to fuse with internal cellular membranes and release the viral nucleocapsid. The Ebolavirus structural glycoprotein (known as GP1,2) is responsible for the virus' ability to bind to and infect targeted cells. The viral RNA polymerase, encoded by the L gene, partially uncoats the nucleocapsid and transcribes the genes into positive-strand mRNAs, which are then translated into structural and nonstructural proteins. The most abundant protein produced is the nucleoprotein, whose concentration in the host cell determines when L switches from gene transcription to genome replication. Replication of the viral genome results in full-length, positive-strand antigenomes that are, in turn, transcribed into genome copies of negative-strand virus progeny. Newly synthesised structural proteins and genomes self-assemble and accumulate near the inside of the cell membrane. Virions bud off from the cell, gaining their envelopes from the cellular membrane from which they bud. The mature progeny particles then infect other cells to repeat the cycle. The genetics of the Ebola virus are difficult to study because of EBOV's virulent characteristics.\",\n",
       " 'The Ebola virus may be able to persist for more than three months in the semen after recovery, which could lead to infections via sexual intercourse. Virus persistence in semen for over a year has been recorded in a national screening programme. Ebola may also occur in the breast milk of women after recovery, and it is not known when it is safe to breastfeed again. The virus was also found in the eye of one patient in 2014, two months after it was cleared from his blood. Otherwise, people who have recovered are not infectious.',\n",
       " 'The length of time between exposure to the virus and the development of symptoms (incubation period) is between two and 21 days, and usually between four and ten days. However, recent estimates based on mathematical models predict that around 5% of cases may take greater than 21 days to develop.',\n",
       " 'The virus spreads through direct contact with body fluids, such as blood from infected humans or other animals. Spread may also occur from contact with items recently contaminated with bodily fluids. Spread of the disease through the air between primates, including humans, has not been documented in either laboratory or natural conditions. Semen or breast milk of a person after recovery from EVD may carry the virus for several weeks to months. Fruit bats are believed to be the normal carrier in nature, able to spread the virus without being affected by it. Other diseases such as malaria, cholera, typhoid fever, meningitis and other viral haemorrhagic fevers may resemble EVD. Blood samples are tested for viral RNA, viral antibodies or for the virus itself to confirm the diagnosis.',\n",
       " 'Control of outbreaks requires coordinated medical services and community engagement. This includes rapid detection, contact tracing of those who have been exposed, quick access to laboratory services, care for those infected, and proper disposal of the dead through cremation or burial. Samples of body fluids and tissues from people with the disease should be handled with special caution. Prevention includes limiting the spread of disease from infected animals to humans by handling potentially infected bushmeat only while wearing protective clothing, and by thoroughly cooking bushmeat before eating it. It also includes wearing proper protective clothing and washing hands when around a person with the disease. An Ebola vaccine was approved in the United States in December 2019. While there is no approved treatment for Ebola as of 2019, two treatments (REGN-EB3 and mAb114) are associated with improved outcomes. Supportive efforts also improve outcomes. This includes either oral rehydration therapy (drinking slightly sweetened and salty water) or giving intravenous fluids as well as treating symptoms.',\n",
       " 'Survivors develop antibodies against Ebola that last at least 10 years, but it is unclear whether they are immune to additional infections.',\n",
       " 'Dead bodies remain infectious; thus, people handling human remains in practices such as traditional burial rituals or more modern processes such as embalming are at risk. 69% of the cases of Ebola infections in Guinea during the 2014 outbreak are believed to have been contracted via unprotected (or unsuitably protected) contact with infected corpses during certain Guinean burial rituals.',\n",
       " 'Ebolaviruses contain single-stranded, non-infectious RNA genomes. Ebolavirus genomes contain seven genes including 3\\'-UTR-NP-VP35-VP40-GP-VP30-VP24-L-5\\'-UTR. The genomes of the five different ebolaviruses (BDBV, EBOV, RESTV, SUDV and TAFV) differ in sequence and the number and location of gene overlaps. As with all filoviruses, ebolavirus virions are filamentous particles that may appear in the shape of a shepherd\\'s crook, of a \"U\" or of a \"6,\" and they may be coiled, toroid or branched. In general, ebolavirions are 80 nanometers (nm) in width and may be as long as 14,000 nm.',\n",
       " 'Signs and symptoms',\n",
       " 'Symptoms usually begin with a sudden influenza-like stage characterised by feeling tired, fever, weakness, decreased appetite, muscular pain, joint pain, headache, and sore throat. The fever is usually higher than 38.3 °C (101 °F). This is often followed by nausea, vomiting, diarrhoea, abdominal pain, and sometimes hiccups. The combination of severe vomiting and diarrhoea often leads to severe dehydration. Next, shortness of breath and chest pain may occur, along with swelling, headaches, and confusion. In about half of the cases, the skin may develop a maculopapular rash, a flat red area covered with small bumps, five to seven days after symptoms begin.',\n",
       " 'In some cases, internal and external bleeding may occur. This typically begins five to seven days after the first symptoms. All infected people show some decreased blood clotting. Bleeding from mucous membranes or from sites of needle punctures has been reported in 40–50% of cases. This may cause vomiting blood, coughing up of blood, or blood in stool. Bleeding into the skin may create petechiae, purpura, ecchymoses or haematomas (especially around needle injection sites). Bleeding into the whites of the eyes may also occur. Heavy bleeding is uncommon; if it occurs, it is usually in the gastrointestinal tract. The incidence of bleeding into the gastrointestinal tract was reported to be ~58% in the 2001 outbreak in Gabon, but in the 2014-15 outbreak in the US it was ~18%, possibly due to improved prevention of disseminated intravascular coagulation.',\n",
       " 'Recovery may begin between seven and 14 days after first symptoms. Death, if it occurs, follows typically six to sixteen days from first symptoms and is often due to low blood pressure from fluid loss. In general, bleeding often indicates a worse outcome, and blood loss may result in death. People are often in a coma near the end of life.']"
      ]
     },
     "execution_count": 83,
     "metadata": {},
     "output_type": "execute_result"
    }
   ],
   "source": [
    "# Calculate how many paragraphs to keep given a percentage of the document to be maintained\n",
    "def get_threshold(doc, percentage):\n",
    "    total = len(doc[1:])\n",
    "    threshold = math.ceil(total * percentage)\n",
    "    return threshold\n",
    "\n",
    "# Select the best paragraphs given a threshold\n",
    "def select_best_paragraphs(filename, percentage):\n",
    "    weighted_overlap_list = weight_doc(filename)\n",
    "    # print(weighted_overlap_list)\n",
    "    doc = save_doc(filename)\n",
    "    paragraphs = doc[1:]\n",
    "    best_paragraphs = [doc[0]]\n",
    "    threshold = get_threshold(doc, percentage)\n",
    "    print(f'threshold with percentage {percentage*100}%: {threshold} out of {len(doc[1:])} paragraphs')\n",
    "    for i in range(int(threshold)):\n",
    "        best_paragraphs.append(paragraphs[weighted_overlap_list.index(max(weighted_overlap_list))])\n",
    "        weighted_overlap_list[weighted_overlap_list.index(max(weighted_overlap_list))] = -1\n",
    "        # print(weighted_overlap_list)\n",
    "    return best_paragraphs\n",
    "\n",
    "# threshold = get_threshold('/Users/jak/Documents/Uni/TLN/TLN/Radicioni/data/docs/Ebola-virus-disease.txt', 0.9)\n",
    "select_best_paragraphs('/Users/jak/Documents/Uni/TLN/TLN/Radicioni/data/docs/Ebola-virus-disease.txt', 0.7)"
   ]
  },
  {
   "cell_type": "markdown",
   "metadata": {},
   "source": [
    "### Costruzione del gold per la valutazione"
   ]
  },
  {
   "cell_type": "code",
   "execution_count": 76,
   "metadata": {},
   "outputs": [],
   "source": [
    "gold_docs = {}\n",
    "\n",
    "def doc_preprocess(filename):\n",
    "    doc = save_doc(filename)\n",
    "    paragraphs = [preprocess(par) for par in doc[1:]]\n",
    "    return paragraphs\n",
    "\n",
    "# doc_preprocess('/Users/jak/Documents/Uni/TLN/TLN/Radicioni/data/docs/Ebola-virus-disease.txt')\n",
    "\n",
    "for path in doc_paths:\n",
    "    title = get_title(path)\n",
    "    gold_docs[title] = doc_preprocess(path)\n",
    "\n",
    "# print(gold)\n"
   ]
  },
  {
   "cell_type": "markdown",
   "metadata": {},
   "source": [
    "### Calcolo della BLEU e ROUGE\n",
    "\n",
    "Saranno date dal confronto tra il riassunto di riferimento, inteso come una lista di termini rilevanti (contenuta in gold), e il riassunto generato, inteso come una lista di termini rilevanti (contenuta in summary).\n",
    "\n",
    "**BLEU**  \n",
    "Misura la precision: ovvero quante parole del riassunto generato sono contenute nel riassunto di riferimento.  \n",
    "BLEU = num(gold & summary) / num(summary)\n",
    "\n",
    "**ROUGE**  \n",
    "Misura la recall: ovvero quante parole del riassunto di riferimento sono contenute nel riassunto generato.  \n",
    "ROUGE = num(gold & summary) / num(gold)"
   ]
  },
  {
   "cell_type": "code",
   "execution_count": 82,
   "metadata": {},
   "outputs": [
    {
     "name": "stdout",
     "output_type": "stream",
     "text": [
      "Andy Warhol: Why the great Pop artist thought ‘Trump is sort of cheap’\n",
      "threshold with percentage 70.0%: 14 out of 19 paragraphs\n",
      "SUMMARY\n",
      "[['trump', 'warhol', 'sort', 'cheap', 'great', 'pop', 'artist', 'andy', 'thought'], ['social', 'john', 'age', 'medium', 'culture', 'ahead', 'exhibition', 'wound', 'lennon', 'artist', 'hold', 'paintbrush', 'tate', 'alastair', 'smart', 'time', 'open', 'modern', 'celebrity', 'thought', 'anticipated'], ['social', '1987', 'medium', 'reaction', 'artist', 'slot', 'advertising', 'word', 'expensive', 'bizarre', '2019', 'widespread', 'clip', 'sporting', 'financial', 'showcase', 'second', 'died', 'low-action', '175,000', 'costing', '1982', 'swift', 'sense', 'super', 'bowl'], ['advert', 'footage', 'context', 'king', 'occasion', 'american', 'great', 'burger', 'celebration', 'country', 'artist', 'food', 'eating', 'answer'], ['edge', 'warhol', 'irony', 'president', 'image', 'allowed', 'war', '1928', 'elvis', 'entirely', 'wouldn', 'slovakia', 'america', 'artist', 'course', 'austro-hungarian', 'silk-screening', 'warhola', 'place', 'united', 'average', 'day', 'called', 'life', 'andrej', 'empire', 'tiny', 'julia', 'village', 'today', 'suggested', 'administration', 'hailed', 'joe', 'andy', 'andrew', 'moved', 'worked', 'parent', 'carpathian', 'construction', 'monroe', 'search', 'better', 'mikova', 'mountain', 'marilyn', 'presley', 'born', 'pittsburgh', 'current'], ['paintbrush', 'art', 'example', 'warhol', 'approach', 'interdisciplinary', 'decade', 'adventure', 'ago', 'today', 'set', 'believed', 'short', 'artist', 'small', 'hold', 'standard'], ['warhol', 'muir', 'argue', 'burger', 'artist', 'whopper', 'realised', 'soup', 'bottle', '20th', 'king', 'consumerist', '21st', 'bit', 'early', 'second', 'ubiquitous', 'celebrity', 'society', 'coke', 'century', 'disposable', 'well', 'half'], ['warhol', 'illustrator', 'artistic', 'subject', 'tradition', 'movement', 'soup', 'bottle', 'career', 'avenue', 'everyday', 'turn', 'decade', 'rejected', 'madison', '1960s', 'working', 'campbell', 'sprung', 'art', 'high-cultural', 'matter', 'depicted', 'began', 'case', 'commercial', 'coke', 'fame', 'brillo', 'pop', 'leader', 'box'], ['25', 'gentleman', 'warhol', 'frequented', 'predicts', 'muir', 'painting', 'drag', 'term', 'series', 'little-known', 'influence', 'queen', 'predates', 'tate', 'yesterday', 'grape', 'called', 'will', 'extends', 'art', 'time', 'lady', 'modern', 'trans', 'square', 'society', 'easily', 'depicts', 'debate', '1975', 'bar', 'lgbt', 'gilded', 'pas', 'view', 'live', 'identity', 'woman'], ['john', 'burst', 'warhol', 'medium', 'embraced', 'exhibition', 'giorno', 'large', 'artist', 'set', 'influence', 'tate', 'distribution', 'work', 'early', 'film', 'friend', 'sleep', 'making', 'poet', 'hour', 'pop', 'sleeping', 'mid-1960s'], ['year', 'warhol', 'occasional', 'break', 'burger', 'uring', 'whopper', 'king', '100', 'treated', 'viewer', 'bite', 'bit', 'second', 'adding', 'commercial', 'andy', 'sight', 'unexpected', '45', 'super', 'ketchup', 'bowl'], ['timeless', 'warhol', 'major', 'prof', 'muir', 'curator', 'open', 'modern', 'exhibition', 'clip', 'tate', 'month', 'aim', 'gregor', 'andy', 'figure'], ['warhol', 'ethnic', 'york', 'scheme', 'pay', 'cent', 'portrait', 'donald', 'feel', 'cross', 'career', '100', 'declared', '1981', 'trump', 'path', 'refused', 'silkscreen', 'wrote', 'start', 'work', 'tower', 'create', 'finished', 'anglicise', 'asked', 'diary', 'root', 'surname', 'andy', 'interestingly', 'party', 'colour', 'cheap', 'chose', 'commissioned', 'american', 'didn', 'turned', 'dropping', 'cent', 'sort'], ['year', 'forget', 'interviewed', 'magazine', 'multi-sensory', 'interview', 'michael', 'underground', 'band', 'conceived', '50', 'stage', 'inevitable', 'managed', '2018', 'founded', 'celebrity', 'velvet', 'cher', 'jackson', 'demise', 'exploding', 'plastic'], ['year', 'social', 'test', '33', 'warhol', 'medium', 'three', 'chair', 'dead', 'video', 'vloggers', 'studio', 'visitor', 'youtube', 'screen', 'film', 'asked', 'perform', 'today', 'advent', 'short', '472', 'front', 'example', 'anticipated', 'camera', 'solo', 'minute']]\n",
      "GOLD\n",
      "[['social', 'john', 'age', 'medium', 'culture', 'ahead', 'exhibition', 'wound', 'lennon', 'artist', 'hold', 'paintbrush', 'tate', 'alastair', 'smart', 'time', 'open', 'modern', 'celebrity', 'thought', 'anticipated'], ['year', 'warhol', 'occasional', 'break', 'burger', 'uring', 'whopper', 'king', '100', 'treated', 'viewer', 'bite', 'bit', 'second', 'adding', 'commercial', 'andy', 'sight', 'unexpected', '45', 'super', 'ketchup', 'bowl'], ['social', '1987', 'medium', 'reaction', 'artist', 'slot', 'advertising', 'word', 'expensive', 'bizarre', '2019', 'widespread', 'clip', 'sporting', 'financial', 'showcase', 'second', 'died', 'low-action', '175,000', 'costing', '1982', 'swift', 'sense', 'super', 'bowl'], ['advert', 'footage', 'context', 'king', 'occasion', 'american', 'great', 'burger', 'celebration', 'country', 'artist', 'food', 'eating', 'answer'], ['timeless', 'warhol', 'major', 'prof', 'muir', 'curator', 'open', 'modern', 'exhibition', 'clip', 'tate', 'month', 'aim', 'gregor', 'andy', 'figure'], ['warhol', 'illustrator', 'artistic', 'subject', 'tradition', 'movement', 'soup', 'bottle', 'career', 'avenue', 'everyday', 'turn', 'decade', 'rejected', 'madison', '1960s', 'working', 'campbell', 'sprung', 'art', 'high-cultural', 'matter', 'depicted', 'began', 'case', 'commercial', 'coke', 'fame', 'brillo', 'pop', 'leader', 'box'], ['edge', 'warhol', 'irony', 'president', 'image', 'allowed', 'war', '1928', 'elvis', 'entirely', 'wouldn', 'slovakia', 'america', 'artist', 'course', 'austro-hungarian', 'silk-screening', 'warhola', 'place', 'united', 'average', 'day', 'called', 'life', 'andrej', 'empire', 'tiny', 'julia', 'village', 'today', 'suggested', 'administration', 'hailed', 'joe', 'andy', 'andrew', 'moved', 'worked', 'parent', 'carpathian', 'construction', 'monroe', 'search', 'better', 'mikova', 'mountain', 'marilyn', 'presley', 'born', 'pittsburgh', 'current'], ['warhol', 'ethnic', 'york', 'scheme', 'pay', 'cent', 'portrait', 'donald', 'feel', 'cross', 'career', '100', 'declared', '1981', 'trump', 'path', 'refused', 'silkscreen', 'wrote', 'start', 'work', 'tower', 'create', 'finished', 'anglicise', 'asked', 'diary', 'root', 'surname', 'andy', 'interestingly', 'party', 'colour', 'cheap', 'chose', 'commissioned', 'american', 'didn', 'turned', 'dropping', 'cent', 'sort'], ['john', 'burst', 'warhol', 'medium', 'embraced', 'exhibition', 'giorno', 'large', 'artist', 'set', 'influence', 'tate', 'distribution', 'work', 'early', 'film', 'friend', 'sleep', 'making', 'poet', 'hour', 'pop', 'sleeping', 'mid-1960s'], ['year', 'forget', 'interviewed', 'magazine', 'multi-sensory', 'interview', 'michael', 'underground', 'band', 'conceived', '50', 'stage', 'inevitable', 'managed', '2018', 'founded', 'celebrity', 'velvet', 'cher', 'jackson', 'demise', 'exploding', 'plastic'], ['paintbrush', 'art', 'example', 'warhol', 'approach', 'interdisciplinary', 'decade', 'adventure', 'ago', 'today', 'set', 'believed', 'short', 'artist', 'small', 'hold', 'standard'], ['25', 'gentleman', 'warhol', 'frequented', 'predicts', 'muir', 'painting', 'drag', 'term', 'series', 'little-known', 'influence', 'queen', 'predates', 'tate', 'yesterday', 'grape', 'called', 'will', 'extends', 'art', 'time', 'lady', 'modern', 'trans', 'square', 'society', 'easily', 'depicts', 'debate', '1975', 'bar', 'lgbt', 'gilded', 'pas', 'view', 'live', 'identity', 'woman'], ['year', 'social', 'test', '33', 'warhol', 'medium', 'three', 'chair', 'dead', 'video', 'vloggers', 'studio', 'visitor', 'youtube', 'screen', 'film', 'asked', 'perform', 'today', 'advent', 'short', '472', 'front', 'example', 'anticipated', 'camera', 'solo', 'minute'], ['warhol', 'book', 'toast', 'understood', 'jam', 'account', 'propensity', 'thinking', 'detail', 'proto-twitter', 'love', 'autobiography', 'including', 'author', 'witty', 'disjointed', 'mundane', 'andy', 'one-liner', '1975', 'philosophy', 'better', 'american', 'buying', 'described'], ['age', 'john', 'warhol', 'sign', 'instagram', 'york', 'building', 'lennon', 'elton', 'read', 'knocked', 'pile', 'room', 'minox', 'published', 'late', 'ing', 'story', 'autobiography', 'answer', 'anticipating', 'time', 'compact', 'don', 'image-saturated', 'friend', '100,000', '*', 'hilarious', 'cocaine', 'carried', 'photograph', 'today', 'night', 'hotel', 'facade', 'food', 'camera', 'll', 'implored', 'door', 'pictures', 'shop', 'feed'], ['individual', 'episode', 'warhol', 'technology', 'direction', 'career', 'grasp', 'innate', 'heading', 'changing', 'speed', 'communication'], ['58', 'operation', 'episode', 'warhol', 'medium', '15', 'mtv', 'cut', 'bladder', 'world-famous', 'quote', 'early-1980s', 'cnn', 'declared', 'called', 'will', 'channel', 'time', 'title', 'proliferation', 'aged', 'nickelodeon', 'inexorable', 'job', 'aware', 'complication', 'referred', 'famous', 'espn', 'presented', 'death', 'short', 'rise', 'andy', 'shine', 'late-1970s', 'fifteen', 'gall', 'future', 'cable', 'minute', 'television', 'talk'], ['social', 'quick-fire', 'warhol', 'predicted', 'platform', 'medium', 'grew', 'influencers', 'tv', 'celebrity', 'exponentially', 'star', 'coming', 'achieve', 'reality'], ['warhol', 'muir', 'argue', 'burger', 'artist', 'whopper', 'realised', 'soup', 'bottle', '20th', 'king', 'consumerist', '21st', 'bit', 'early', 'second', 'ubiquitous', 'celebrity', 'society', 'coke', 'century', 'disposable', 'well', 'half']]\n"
     ]
    },
    {
     "ename": "TypeError",
     "evalue": "unhashable type: 'list'",
     "output_type": "error",
     "traceback": [
      "\u001b[0;31m---------------------------------------------------------------------------\u001b[0m",
      "\u001b[0;31mTypeError\u001b[0m                                 Traceback (most recent call last)",
      "\u001b[0;32m/var/folders/vy/61q2hg6j75vdf08b96dmw_6c0000gn/T/ipykernel_6592/306473287.py\u001b[0m in \u001b[0;36m<module>\u001b[0;34m\u001b[0m\n\u001b[1;32m     27\u001b[0m     \u001b[0mpercents\u001b[0m \u001b[0;34m=\u001b[0m \u001b[0;34m[\u001b[0m\u001b[0;36m0.7\u001b[0m\u001b[0;34m,\u001b[0m \u001b[0;36m0.8\u001b[0m\u001b[0;34m,\u001b[0m \u001b[0;36m0.9\u001b[0m\u001b[0;34m,\u001b[0m \u001b[0;36m1\u001b[0m\u001b[0;34m]\u001b[0m\u001b[0;34m\u001b[0m\u001b[0;34m\u001b[0m\u001b[0m\n\u001b[1;32m     28\u001b[0m     \u001b[0;32mfor\u001b[0m \u001b[0mp\u001b[0m \u001b[0;32min\u001b[0m \u001b[0mpercents\u001b[0m\u001b[0;34m:\u001b[0m\u001b[0;34m\u001b[0m\u001b[0;34m\u001b[0m\u001b[0m\n\u001b[0;32m---> 29\u001b[0;31m         \u001b[0mprint\u001b[0m\u001b[0;34m(\u001b[0m\u001b[0;34mf'BLEU score with {p*100}%: {bleu(path, p)}'\u001b[0m\u001b[0;34m)\u001b[0m\u001b[0;34m\u001b[0m\u001b[0;34m\u001b[0m\u001b[0m\n\u001b[0m\u001b[1;32m     30\u001b[0m         \u001b[0;31m# print(f'ROUGE score with {p*100}%: {rouge(path, p)}')\u001b[0m\u001b[0;34m\u001b[0m\u001b[0;34m\u001b[0m\u001b[0m\n\u001b[1;32m     31\u001b[0m         \u001b[0mprint\u001b[0m\u001b[0;34m(\u001b[0m\u001b[0;34m'_'\u001b[0m \u001b[0;34m*\u001b[0m \u001b[0;36m40\u001b[0m\u001b[0;34m)\u001b[0m\u001b[0;34m\u001b[0m\u001b[0;34m\u001b[0m\u001b[0m\n",
      "\u001b[0;32m/var/folders/vy/61q2hg6j75vdf08b96dmw_6c0000gn/T/ipykernel_6592/306473287.py\u001b[0m in \u001b[0;36mbleu\u001b[0;34m(filename, percentage)\u001b[0m\n\u001b[1;32m     10\u001b[0m     \u001b[0mprint\u001b[0m\u001b[0;34m(\u001b[0m\u001b[0;34m'GOLD'\u001b[0m\u001b[0;34m)\u001b[0m\u001b[0;34m\u001b[0m\u001b[0;34m\u001b[0m\u001b[0m\n\u001b[1;32m     11\u001b[0m     \u001b[0mprint\u001b[0m\u001b[0;34m(\u001b[0m\u001b[0mgold\u001b[0m\u001b[0;34m)\u001b[0m\u001b[0;34m\u001b[0m\u001b[0;34m\u001b[0m\u001b[0m\n\u001b[0;32m---> 12\u001b[0;31m     \u001b[0mintersection\u001b[0m \u001b[0;34m=\u001b[0m \u001b[0mset\u001b[0m\u001b[0;34m(\u001b[0m\u001b[0msummary\u001b[0m\u001b[0;34m)\u001b[0m\u001b[0;34m.\u001b[0m\u001b[0mintersection\u001b[0m\u001b[0;34m(\u001b[0m\u001b[0mgold\u001b[0m\u001b[0;34m)\u001b[0m\u001b[0;34m\u001b[0m\u001b[0;34m\u001b[0m\u001b[0m\n\u001b[0m\u001b[1;32m     13\u001b[0m     \u001b[0mbleu\u001b[0m \u001b[0;34m=\u001b[0m \u001b[0mlen\u001b[0m\u001b[0;34m(\u001b[0m\u001b[0mintersection\u001b[0m\u001b[0;34m)\u001b[0m \u001b[0;34m/\u001b[0m \u001b[0mlen\u001b[0m\u001b[0;34m(\u001b[0m\u001b[0msummary\u001b[0m\u001b[0;34m)\u001b[0m\u001b[0;34m\u001b[0m\u001b[0;34m\u001b[0m\u001b[0m\n\u001b[1;32m     14\u001b[0m     \u001b[0;31m# bleu = len(summary).intersection(gold) / len(summary)\u001b[0m\u001b[0;34m\u001b[0m\u001b[0;34m\u001b[0m\u001b[0m\n",
      "\u001b[0;31mTypeError\u001b[0m: unhashable type: 'list'"
     ]
    }
   ],
   "source": [
    "# Compute BLEU score for a document\n",
    "def bleu(filename, percentage):\n",
    "    best_paragraphs = select_best_paragraphs(filename, percentage)\n",
    "    \n",
    "    # doc = save_doc(filename)\n",
    "    summary = [preprocess(par) for par in best_paragraphs]\n",
    "    print('SUMMARY')\n",
    "    print(summary)\n",
    "    # summary = set(summary[1:])\n",
    "    gold = gold_docs[get_title(filename)]\n",
    "    print('GOLD')\n",
    "    print(gold)\n",
    "    intersection = set(summary).intersection(gold)\n",
    "    bleu = len(intersection) / len(summary)\n",
    "    # bleu = len(summary).intersection(gold) / len(summary)\n",
    "    return bleu\n",
    "\n",
    "# Compute ROUGE score for a document\n",
    "def rouge(filename, percentage):\n",
    "    best_paragraphs = select_best_paragraphs(filename, percentage)\n",
    "    doc = save_doc(filename)\n",
    "    funct = rouge.Rouge()\n",
    "    score = funct.get_scores(doc, best_paragraphs)\n",
    "    return score\n",
    "\n",
    "for path in doc_paths:\n",
    "    print(get_title(path))\n",
    "    percents = [0.7, 0.8, 0.9, 1]\n",
    "    for p in percents:\n",
    "        print(f'BLEU score with {p*100}%: {bleu(path, p)}')\n",
    "        # print(f'ROUGE score with {p*100}%: {rouge(path, p)}')\n",
    "        print('_' * 40)\n",
    "    print('-' * 100)"
   ]
  }
 ],
 "metadata": {
  "kernelspec": {
   "display_name": "Python 3.9.7 ('base')",
   "language": "python",
   "name": "python3"
  },
  "language_info": {
   "codemirror_mode": {
    "name": "ipython",
    "version": 3
   },
   "file_extension": ".py",
   "mimetype": "text/x-python",
   "name": "python",
   "nbconvert_exporter": "python",
   "pygments_lexer": "ipython3",
   "version": "3.9.7"
  },
  "orig_nbformat": 4,
  "vscode": {
   "interpreter": {
    "hash": "5587bf738ccec4bb524b17f914a1c07eb93a384af8fabdf9504251bc61fb6171"
   }
  }
 },
 "nbformat": 4,
 "nbformat_minor": 2
}
