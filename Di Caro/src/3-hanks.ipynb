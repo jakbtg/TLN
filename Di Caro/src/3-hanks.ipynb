{
 "cells": [
  {
   "attachments": {},
   "cell_type": "markdown",
   "metadata": {},
   "source": [
    "# Esercizio 3 - Hanks\n",
    "\n",
    "- Il verbo scelto è **Play**\n",
    "- Si estrae dal corpus **Brown** le istanze che contengono il verbo **Play**\n",
    "- Si effettua parsing e disambiguazione delle frasi estratte\n",
    "- Si usano i super sensi di WordNet sugli argomenti (subj e obj nel caso di 2 argomenti) del verbo scelto\n",
    "- Si aggregano i risultati, si calcolano le frequenze, e si stampano i cluster semantici ottenuti"
   ]
  },
  {
   "cell_type": "code",
   "execution_count": 5,
   "metadata": {},
   "outputs": [],
   "source": [
    "import nltk\n",
    "from nltk.corpus import brown\n",
    "from nltk.wsd import lesk\n",
    "from nltk.corpus import wordnet as wn\n",
    "import spacy"
   ]
  },
  {
   "attachments": {},
   "cell_type": "markdown",
   "metadata": {},
   "source": [
    "### Estrai le frasi che contengono il verbo Play dal corpus Brown"
   ]
  },
  {
   "cell_type": "code",
   "execution_count": 37,
   "metadata": {},
   "outputs": [
    {
     "name": "stdout",
     "output_type": "stream",
     "text": [
      "357\n",
      "The effectiveness of the governor in clearing up some of the inconsistencies revolving about the sales tax bill may play a part in determining whether it can muster the required two-thirds vote .\n",
      "The Philadelphia Transportation Co. is investigating the part its organization played in reviewing the project .\n",
      "Bill Kunkel , Bob Hartman and Ed Keegan did the mound chores for the club down from West Palm Beach to play the game before 767 paying customers in Miami Stadium .\n",
      "When Robinson tried to stretch his blow into a triple , he was cut down in a close play at third , Tuttle to Andy Carey .\n",
      "Then Throneberry rapped into a fast double play .\n",
      "-- A Texas halfback who doesn't even know the team's plays , Eldon Moritz , ranks fourth in Southwest Conference scoring after three games .\n",
      "Although he never gets to play while the clock is running , he gets a big kick -- several every Saturday , in fact -- out of football .\n",
      "But ask coach Darrell Royal what position he plays and you'll get the quick response , `` place-kicker '' .\n",
      "He missed the 1955 season because of an operation on the ailing knee , then played 77 minutes in 1956 .\n",
      "Saxton has made only one second-half appearance this season and that was in the Washington State game , for four plays : he returned the kickoff 30 yards , gained five yards through the line and then uncorked a 56-yard touchdown run before retiring to the bench .\n"
     ]
    }
   ],
   "source": [
    "nlp = spacy.load('en_core_web_sm')\n",
    "# verb = ['study', 'studies', 'studied']\n",
    "verb = ['play', 'plays', 'played']\n",
    "sentences = [sent for sent in brown.sents() if verb[0] in sent or verb[1] in sent or verb[2] in sent]\n",
    "print(len(sentences))\n",
    "for i in range(10):\n",
    "    print(' '.join(sentences[i]))"
   ]
  },
  {
   "attachments": {},
   "cell_type": "markdown",
   "metadata": {},
   "source": [
    "### Parsing delle frasi estratte per trovare il soggetto e l'oggetto del verbo Play\n",
    "\n",
    "Per ogni frase estratta dal corpus cerco il soggetto e l'oggetto del verbo **Play** e li salvo in una lista di tuple.  \n",
    "Per farlo uso la libreria **spaCy** che mi permette di cercare il soggetto e l'oggetto di un verbo in una frase tramite `token.dep_ == 'nsubj'` e `token.dep_ == 'dobj'`.  \n",
    "Tramite `token.head.text in verb` posso inoltre cercare se il soggetto e l'oggetto trovati sono effettivamente legati al verbo **Play**.  \n",
    "Infine con `token.dep_ == 'ROOT'` posso sapere se il verbo **Play** è la radice della frase, senza questo controllo la ricerca del soggetto e dell'oggetto potrebbe portare a risultati non corretti, tipo pronomi o quant'altro.  \n",
    "Mi sono accorto di ciò interpretando i risultati ottenuti."
   ]
  },
  {
   "cell_type": "code",
   "execution_count": 46,
   "metadata": {},
   "outputs": [
    {
     "name": "stdout",
     "output_type": "stream",
     "text": [
      "[('effectiveness', 'part', ['The', 'effectiveness', 'of', 'the', 'governor', 'in', 'clearing', 'up', 'some', 'of', 'the', 'inconsistencies', 'revolving', 'about', 'the', 'sales', 'tax', 'bill', 'may', 'play', 'a', 'part', 'in', 'determining', 'whether', 'it', 'can', 'muster', 'the', 'required', 'two-thirds', 'vote', '.']), ('he', 'position', ['But', 'ask', 'coach', 'Darrell', 'Royal', 'what', 'position', 'he', 'plays', 'and', \"you'll\", 'get', 'the', 'quick', 'response', ',', '``', 'place-kicker', \"''\", '.']), ('Nelson', 'football', ['``', 'Nelson', 'played', 'magnificent', 'football', \"''\", ',', 'Meek', 'praised', '.'])]\n"
     ]
    }
   ],
   "source": [
    "# Parse the sentences using Spacy to extract the subject and object of the verb love\n",
    "def get_subject_object(sentence):\n",
    "    # len = 0\n",
    "    triples = []\n",
    "    for sent in sentences:\n",
    "        sub = ''\n",
    "        obj = ''\n",
    "        doc = nlp(' '.join(sent))\n",
    "        isRoot = False\n",
    "        for token in doc:\n",
    "            if token.dep_ == 'nsubj' and token.head.text in verb:\n",
    "                sub = token.text\n",
    "            if token.dep_ == 'dobj' and token.head.text in verb:\n",
    "                obj = token.text\n",
    "            # if token.dep_ == 'ROOT' and token.text in verb:\n",
    "            #     isRoot = True\n",
    "        if sub != '' and obj != '':\n",
    "            # len += 1\n",
    "            triples.append((sub, obj, sent))\n",
    "    return triples\n",
    "\n",
    "print(get_subject_object(sentences)[:3])"
   ]
  },
  {
   "attachments": {},
   "cell_type": "markdown",
   "metadata": {},
   "source": [
    "### Disambiguazione delle coppie soggetto-oggetto\n",
    "\n",
    "Per ogni coppia soggetto-oggetto estratta dal corpus, cerco il super-senso di WordNet che meglio descrive il soggetto e l'oggetto."
   ]
  },
  {
   "cell_type": "code",
   "execution_count": 50,
   "metadata": {},
   "outputs": [
    {
     "name": "stdout",
     "output_type": "stream",
     "text": [
      "[('noun.attribute', 'noun.act'), ('noun.substance', 'noun.state'), ('noun.act', 'noun.artifact'), ('', 'noun.animal'), ('noun.group', 'noun.act'), ('', 'noun.act'), ('noun.substance', 'noun.act'), ('noun.group', 'noun.act'), ('', 'noun.cognition'), ('noun.substance', 'verb.contact'), ('', 'adv.all'), ('noun.artifact', 'noun.cognition'), ('noun.substance', 'noun.act'), ('noun.group', 'verb.creation'), ('', 'noun.object'), ('noun.cognition', 'noun.artifact'), ('noun.substance', 'verb.contact'), ('noun.person', 'noun.communication'), ('noun.group', 'noun.act'), ('noun.location', ''), ('verb.contact', 'noun.communication'), ('noun.substance', 'noun.communication'), ('noun.group', 'noun.act'), ('noun.substance', 'noun.person'), ('', 'noun.act'), ('noun.group', 'noun.process'), ('', ''), ('', ''), ('noun.substance', 'noun.person'), ('noun.group', 'noun.animal'), ('', ''), ('', ''), ('noun.group', 'noun.person'), ('noun.group', 'noun.communication'), ('', ''), ('noun.person', 'noun.act'), ('noun.person', 'noun.act'), ('noun.cognition', 'noun.act'), ('noun.communication', ''), ('noun.relation', 'noun.act'), ('adj.all', 'noun.attribute'), ('', 'noun.act'), ('noun.relation', 'noun.act'), ('', 'noun.cognition'), ('', 'noun.act'), ('noun.group', 'noun.body'), ('', 'noun.body'), ('noun.group', 'noun.act'), ('', 'noun.communication'), ('noun.person', 'noun.act'), ('noun.substance', 'noun.act'), ('noun.artifact', 'noun.body'), ('', 'noun.artifact'), ('noun.cognition', 'noun.act'), ('noun.group', 'noun.act'), ('noun.substance', 'noun.group'), ('noun.attribute', ''), ('noun.quantity', 'verb.change'), ('noun.phenomenon', 'noun.act'), ('noun.relation', 'noun.cognition'), ('noun.substance', 'noun.act'), ('', 'noun.person'), ('noun.cognition', 'noun.body'), ('noun.person', 'noun.artifact'), ('noun.cognition', 'noun.cognition'), ('noun.group', 'noun.act'), ('adj.all', 'noun.act'), ('noun.act', 'noun.cognition'), ('noun.relation', 'noun.act'), ('noun.artifact', 'noun.act'), ('noun.state', 'noun.cognition'), ('noun.act', 'noun.cognition'), ('noun.substance', 'noun.act'), ('', 'noun.act'), ('noun.substance', 'noun.communication'), ('', 'noun.cognition'), ('noun.phenomenon', 'noun.body'), ('noun.group', 'noun.act'), ('verb.change', 'noun.act'), ('', ''), ('noun.substance', 'verb.contact'), ('noun.person', 'noun.artifact'), ('', 'noun.artifact'), ('noun.substance', 'verb.competition'), ('', 'noun.act'), ('noun.artifact', 'noun.phenomenon'), ('noun.substance', 'noun.artifact'), ('', 'noun.artifact'), ('noun.person', 'noun.cognition'), ('', 'noun.person'), ('noun.substance', 'noun.act'), ('noun.substance', 'noun.cognition'), ('noun.substance', 'noun.food'), ('noun.substance', 'noun.person'), ('noun.substance', 'noun.person'), ('', 'noun.act'), ('', 'adj.all'), ('noun.group', 'noun.person')]\n"
     ]
    }
   ],
   "source": [
    "# Get the super senses of the subject and object\n",
    "def get_super_sense(triples):\n",
    "    super_senses = []\n",
    "    for triple in triples:\n",
    "        sub = triple[0]\n",
    "        obj = triple[1]\n",
    "        sent = triple[2]\n",
    "        sub_sense = lesk(sent, sub)\n",
    "        obj_sense = lesk(sent, obj)\n",
    "        super_senses.append((sub_sense.lexname() if sub_sense else '', obj_sense.lexname() if obj_sense else ''))\n",
    "    return super_senses\n",
    "\n",
    "print(get_super_sense(get_subject_object(sentences)))"
   ]
  }
 ],
 "metadata": {
  "kernelspec": {
   "display_name": "Python 3",
   "language": "python",
   "name": "python3"
  },
  "language_info": {
   "codemirror_mode": {
    "name": "ipython",
    "version": 3
   },
   "file_extension": ".py",
   "mimetype": "text/x-python",
   "name": "python",
   "nbconvert_exporter": "python",
   "pygments_lexer": "ipython3",
   "version": "3.9.1"
  },
  "orig_nbformat": 4,
  "vscode": {
   "interpreter": {
    "hash": "aee8b7b246df8f9039afb4144a1f6fd8d2ca17a180786b69acc140d282b71a49"
   }
  }
 },
 "nbformat": 4,
 "nbformat_minor": 2
}
