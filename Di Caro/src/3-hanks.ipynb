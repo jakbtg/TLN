{
 "cells": [
  {
   "attachments": {},
   "cell_type": "markdown",
   "metadata": {},
   "source": [
    "# Esercizio 3 - Hanks\n",
    "\n",
    "- Il verbo scelto è **Play**\n",
    "- Si estrae dal corpus **Brown** le istanze che contengono il verbo **Play**\n",
    "- Si effettua parsing e disambiguazione delle frasi estratte\n",
    "- Si usano i super sensi di WordNet sugli argomenti (subj e obj nel caso di 2 argomenti) del verbo scelto\n",
    "- Si aggregano i risultati, si calcolano le frequenze, e si stampano i cluster semantici ottenuti"
   ]
  },
  {
   "cell_type": "code",
   "execution_count": 5,
   "metadata": {},
   "outputs": [],
   "source": [
    "import nltk\n",
    "from nltk.corpus import brown\n",
    "from nltk.wsd import lesk\n",
    "from nltk.corpus import wordnet as wn\n",
    "import spacy"
   ]
  },
  {
   "attachments": {},
   "cell_type": "markdown",
   "metadata": {},
   "source": [
    "### Estrai le frasi che contengono il verbo Play dal corpus Brown"
   ]
  },
  {
   "cell_type": "code",
   "execution_count": 85,
   "metadata": {},
   "outputs": [
    {
     "name": "stdout",
     "output_type": "stream",
     "text": [
      "20932\n",
      "The jury further said in term-end presentments that the City Executive Committee , which had over-all charge of the election , `` deserves the praise and thanks of the City of Atlanta '' for the manner in which the election was conducted .\n",
      "The September-October term jury had been charged by Fulton Superior Court Judge Durwood Pye to investigate reports of possible `` irregularities '' in the hard-fought primary which was won by Mayor-nominate Ivan Allen Jr. .\n",
      "`` Only a relative handful of such reports was received '' , the jury said , `` considering the widespread interest in the election , the number of voters and the size of this city '' .\n",
      "However , the jury said it believes `` these two offices should be combined to achieve greater efficiency and reduce the cost of administration '' .\n",
      "The City Purchasing Department , the jury said , `` is lacking in experienced clerical personnel as a result of city personnel policies '' .\n",
      "Implementation of Georgia's automobile title law was also recommended by the outgoing jury .\n",
      "It urged that the next Legislature `` provide enabling funds and re-set the effective date so that an orderly implementation of the law may be effected '' .\n",
      "`` This is one of the major items in the Fulton County general assistance program '' , the jury said , but the State Welfare Department `` has seen fit to distribute these funds through the welfare departments of all the counties in the state with the exception of Fulton County , which receives none of this money .\n",
      "Regarding Atlanta's new multi-million-dollar airport , the jury recommended `` that when the new management takes charge Jan. 1 the airport be operated in a manner that will eliminate political influences '' .\n",
      "The jury did not elaborate , but it added that `` there should be periodic surveillance of the pricing practices of the concessionaires for the purpose of keeping the prices reasonable '' .\n"
     ]
    }
   ],
   "source": [
    "nlp = spacy.load('en_core_web_sm')\n",
    "# verb = ['study', 'studies', 'studied']\n",
    "verb = ['be', 'is', 'was']\n",
    "sentences = [sent for sent in brown.sents() if verb[0] in sent or verb[1] in sent or verb[2] in sent]\n",
    "print(len(sentences))\n",
    "for i in range(10):\n",
    "    print(' '.join(sentences[i]))"
   ]
  },
  {
   "attachments": {},
   "cell_type": "markdown",
   "metadata": {},
   "source": [
    "### Parsing delle frasi estratte per trovare il soggetto e l'oggetto del verbo Play\n",
    "\n",
    "Per ogni frase estratta dal corpus cerco il soggetto e l'oggetto del verbo **Play** e li salvo in una lista di tuple.  \n",
    "Per farlo uso la libreria **spaCy** che mi permette di cercare il soggetto e l'oggetto di un verbo in una frase tramite `token.dep_ == 'nsubj'` e `token.dep_ == 'dobj'`.  \n",
    "Tramite `token.head.text in verb` posso inoltre cercare se il soggetto e l'oggetto trovati sono effettivamente legati al verbo **Play**.  \n",
    "Infine con `token.dep_ == 'ROOT'` posso sapere se il verbo **Play** è la radice della frase, senza questo controllo la ricerca del soggetto e dell'oggetto potrebbe portare a risultati non corretti, tipo pronomi o quant'altro.  \n",
    "Mi sono accorto di ciò interpretando i risultati ottenuti."
   ]
  },
  {
   "cell_type": "code",
   "execution_count": 86,
   "metadata": {},
   "outputs": [],
   "source": [
    "# Parse the sentences using Spacy to extract the subject and object of the verb love\n",
    "def get_subject_object(sentence):\n",
    "    len = 0\n",
    "    triples = []\n",
    "    for sent in sentences:\n",
    "        sub = ''\n",
    "        obj = ''\n",
    "        doc = nlp(' '.join(sent))\n",
    "        isRoot = False\n",
    "        for token in doc:\n",
    "            if token.dep_ == 'nsubj' and token.head.text in verb:\n",
    "                sub = token.text\n",
    "            if token.dep_ == 'dobj' and token.head.text in verb:\n",
    "                obj = token.text\n",
    "            if token.dep_ == 'ROOT' and token.text in verb:\n",
    "                isRoot = True\n",
    "        if sub != '' and obj != '' and isRoot:\n",
    "            len += 1\n",
    "            triples.append((sub, obj, sent))\n",
    "    return triples\n",
    "\n",
    "# print(get_subject_object(sentences)[0:3])"
   ]
  },
  {
   "attachments": {},
   "cell_type": "markdown",
   "metadata": {},
   "source": [
    "### Disambiguazione delle coppie soggetto-oggetto\n",
    "\n",
    "Per ogni coppia soggetto-oggetto estratta dal corpus, cerco il super-senso di WordNet che meglio descrive il soggetto e l'oggetto."
   ]
  },
  {
   "cell_type": "code",
   "execution_count": 87,
   "metadata": {},
   "outputs": [],
   "source": [
    "# Get the super senses of the subject and object\n",
    "def get_super_sense(triples):\n",
    "    super_senses = []\n",
    "    for triple in triples:\n",
    "        sub = triple[0]\n",
    "        obj = triple[1]\n",
    "        sent = triple[2]\n",
    "        sub_sense = lesk(sent, sub)\n",
    "        obj_sense = lesk(sent, obj)\n",
    "        super_senses.append((sub_sense.lexname() if sub_sense else 'noun.person', obj_sense.lexname() if obj_sense else 'noun.person'))\n",
    "    return super_senses\n",
    "\n",
    "# print(get_super_sense(get_subject_object(sentences)))"
   ]
  },
  {
   "attachments": {},
   "cell_type": "markdown",
   "metadata": {},
   "source": [
    "### Aggregazione dei risultati e stampa dei cluster"
   ]
  },
  {
   "cell_type": "code",
   "execution_count": 88,
   "metadata": {},
   "outputs": [],
   "source": [
    "# Aggregate the super senses\n",
    "def aggregate_super_sense(super_senses):\n",
    "    super_sense_dict = {}\n",
    "    for super_sense in super_senses:\n",
    "        if super_sense in super_sense_dict:\n",
    "            super_sense_dict[super_sense] += 1\n",
    "        else:\n",
    "            super_sense_dict[super_sense] = 1\n",
    "    super_sense_dict = {k: v for k, v in sorted(super_sense_dict.items(), key=lambda item: item[1], reverse=True)}\n",
    "    return super_sense_dict\n",
    "\n",
    "result = aggregate_super_sense(get_super_sense(get_subject_object(sentences)))\n",
    "total = sum(result.values())\n",
    "print(f'Total pairs: {len(result)}')\n",
    "for key, value in result.items():\n",
    "    print(f'{key}: {value/total*100:.2f}%')"
   ]
  }
 ],
 "metadata": {
  "kernelspec": {
   "display_name": "Python 3",
   "language": "python",
   "name": "python3"
  },
  "language_info": {
   "codemirror_mode": {
    "name": "ipython",
    "version": 3
   },
   "file_extension": ".py",
   "mimetype": "text/x-python",
   "name": "python",
   "nbconvert_exporter": "python",
   "pygments_lexer": "ipython3",
   "version": "3.9.1"
  },
  "orig_nbformat": 4,
  "vscode": {
   "interpreter": {
    "hash": "aee8b7b246df8f9039afb4144a1f6fd8d2ca17a180786b69acc140d282b71a49"
   }
  }
 },
 "nbformat": 4,
 "nbformat_minor": 2
}
