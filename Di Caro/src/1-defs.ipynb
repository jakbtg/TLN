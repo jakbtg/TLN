{
 "cells": [
  {
   "cell_type": "markdown",
   "metadata": {},
   "source": [
    "# Esercizio 1 - Definizioni"
   ]
  },
  {
   "cell_type": "code",
   "execution_count": 70,
   "metadata": {},
   "outputs": [],
   "source": [
    "import pandas as pd\n",
    "import nltk"
   ]
  },
  {
   "cell_type": "markdown",
   "metadata": {},
   "source": [
    "### Leggi il file di input\n",
    "\n",
    "Salvo le varie definizioni degli studenti in un dizionario con:\n",
    "- chiave: parola (tra Emotion, Person, Revenge, Brick)\n",
    "- valore: lista di definizioni date dagli studenti"
   ]
  },
  {
   "cell_type": "code",
   "execution_count": 71,
   "metadata": {},
   "outputs": [
    {
     "data": {
      "text/plain": [
       "{'Emotion': ['Range of concepts human beings feel in certain situations',\n",
       "  'Something you can feel',\n",
       "  'Something that an animal can feel',\n",
       "  'something you think that makes you feel good or bad',\n",
       "  'Human sensation arising from the form of feelings',\n",
       "  'State of mind that a living being can percieve',\n",
       "  'Feeling that a human or an animal can express towards others',\n",
       "  'A sentiment that a living entity can feel and express throw words and their body.',\n",
       "  'what you feel in a certain moment',\n",
       "  \"feeling experienced by sentient beings and cause by events happening in the outside world as well as in the being's ming\",\n",
       "  nan,\n",
       "  nan,\n",
       "  'sentimental reation to an action',\n",
       "  'something you can feel',\n",
       "  'what a human being is feeling, eg happyness, sadness, love',\n",
       "  'general concept of feeling',\n",
       "  'A feeling deriving from human life',\n",
       "  'an human sensation ',\n",
       "  'An animal feeling',\n",
       "  'Emotion is a psychic state',\n",
       "  'something that a human being can feel',\n",
       "  'Human sensation that can affect someones mood in either a positive or negative way',\n",
       "  'feeling of a living being',\n",
       "  'feeling',\n",
       "  'A particular state of mind of a person caused by something internal or external',\n",
       "  'A mental reaction',\n",
       "  'a strong feeling',\n",
       "  'Feeling/State felt by living beings',\n",
       "  'The mental state of an agent',\n",
       "  'Mental mood ',\n",
       "  'a feeling dued to something',\n",
       "  'Emotion is a feeling that is created by a physical or mental stimulus.'],\n",
       " 'Person': ['Human being ',\n",
       "  'Human being',\n",
       "  'The generic for person is human, it describe a single human with some precise features',\n",
       "  'human',\n",
       "  'Living human being belonging to a group or society',\n",
       "  'Mammal descending from apes',\n",
       "  'Living entity, human being, sentient.',\n",
       "  'A human being.',\n",
       "  'human being u can see or touch',\n",
       "  'human being',\n",
       "  'human being',\n",
       "  nan,\n",
       "  'living being, ',\n",
       "  'human with all his characteristics',\n",
       "  'human being, individual',\n",
       "  'animal with feeling',\n",
       "  'human being',\n",
       "  'human being ',\n",
       "  'Person is a human being',\n",
       "  'A person is a human being',\n",
       "  'a person is a human being',\n",
       "  'Member of the homo sapiens ',\n",
       "  'human',\n",
       "  'human being',\n",
       "  'An individual of the homo sapiens species',\n",
       "  'A human being',\n",
       "  'a human being',\n",
       "  'Human being, man or woman',\n",
       "  'A specific human being.',\n",
       "  'Human being ',\n",
       "  'a living entity',\n",
       "  'There is no single answer to this question as what it means to be human can vary from person to person. Some may say that being human is defined by certain physical characteristics, such as the ability to walk upright on two legs, or by certain cognitive abilities, such as the ability to think and reason. Others may say that being human is about having certain emotions and experiences, such as love, compassion, and happiness. Ultimately, what it means to be human is a complex and unique question that each individual must answer for themselves.'],\n",
       " 'Revenge': ['Feeling, usually negative. Consequence of a wrongdoing done to someone, resulting in a bad action',\n",
       "  'An emotion that describes anger',\n",
       "  'Is classified as an emotion, generally not good and describe anger toward a specific person or entity',\n",
       "  'negative emotion ',\n",
       "  'Reaction of anger or violence on oneself or on others arising from some forms of feelings',\n",
       "  'Act performed by a living being triggered by emotions of anger and hatred',\n",
       "  'Act or feeling of anger resulting from another action done by the foe',\n",
       "  'Act of doing something to someone because of anger',\n",
       "  'action against something or someone, generally motivated by anger',\n",
       "  'sentiment of anger and disillusionment that leads a sentient being to act in a certain way towards someone else',\n",
       "  'Bad action taken against a person.',\n",
       "  nan,\n",
       "  'sub- class of  emotion,  and emotional reaction to harm someone',\n",
       "  'feeling arising from something negative',\n",
       "  'feeling of facing someone and hurting him',\n",
       "  nan,\n",
       "  'Desire ',\n",
       "  'a state of mind or an action which consists in hurting someone who has committed a wrong',\n",
       "  'Feeling about hurting smn after being hurt ',\n",
       "  'Revenge is a reaction in return of another one ',\n",
       "  'feeling to take an action in response to an injure',\n",
       "  'Situation where an individual has the intention of harming someone or something as a consequence of that thing or person hurting him before ',\n",
       "  'emotion caused by and towards someone',\n",
       "  'angry reaction towards someone',\n",
       "  \"A person's will to get back at someone for something bad they did\",\n",
       "  'The mental reaction of getting something to make up for a wrong',\n",
       "  'the act of damaging someone in return of an injury',\n",
       "  'The wish to damage someone who hurt you.',\n",
       "  'The act of damaging someone as a reaction',\n",
       "  'Mood',\n",
       "  'desire to do justice for themselves',\n",
       "  'Revenge is a type of justice that is often seen as a way of seeking retribution for a wrong that has been done.'],\n",
       " 'Brick': ['object made of a material (e.g. clay), usually with the aim of constructing buildings',\n",
       "  'block of some material, used in construction',\n",
       "  'It’s an object and is the basic element of a construction, like a building',\n",
       "  'piece of a material used to build something',\n",
       "  'Parallelepiped object used for the construction of buildings',\n",
       "  'Construction tool of resistnat material and with a polygonal shape',\n",
       "  'Material used for construction of buildings, can be in different shapes and sizes.',\n",
       "  'An object used to build walls.',\n",
       "  'Red object used to build constructions',\n",
       "  'block of material (e.i. clay) generally used for the cunstruction of buildings',\n",
       "  'Object used in construction. Es. Brick wall',\n",
       "  'a phyisical object usually made of clay used to build houses',\n",
       "  'physical material for house construction',\n",
       "  'object used for construction (house or well for eg.)',\n",
       "  'object used during costruction of buildings, made of clay or other materials',\n",
       "  'Part of build',\n",
       "  'block of material ',\n",
       "  'an object used to build something like a building',\n",
       "  'Block of material used for building construction',\n",
       "  'A brick is an object used in construction of buildings',\n",
       "  'block of some material used to build constructions',\n",
       "  'Object used as an element to build things',\n",
       "  'material made of clay used to build a structure',\n",
       "  'piece of material used to build something',\n",
       "  'An object usually used for constructing buildings, usually rectangular-shaped',\n",
       "  'A rectangular-shaped object made of clay used to build constructions',\n",
       "  'material used for construction',\n",
       "  nan,\n",
       "  'Material used for construction.',\n",
       "  'An object made to build something ',\n",
       "  'object used to build something',\n",
       "  'A brick is a rectangular block of ceramic material used in construction.']}"
      ]
     },
     "execution_count": 71,
     "metadata": {},
     "output_type": "execute_result"
    }
   ],
   "source": [
    "df = pd.read_excel('../data/definizioni.xlsx')\n",
    "students = df.columns[1:].tolist()\n",
    "defs = df[df.columns[0]].tolist()\n",
    "def_dict = {}\n",
    "for definition in defs:\n",
    "    def_dict[definition] = []\n",
    "for student in students:\n",
    "    for definition in defs:\n",
    "        def_dict[definition].append(df[student][df[df.columns[0]] == definition].values[0])\n",
    "\n",
    "def_dict"
   ]
  },
  {
   "cell_type": "markdown",
   "metadata": {},
   "source": [
    "### Ripulisci il file da stopwords e punteggiatura"
   ]
  },
  {
   "cell_type": "code",
   "execution_count": 54,
   "metadata": {},
   "outputs": [
    {
     "ename": "TypeError",
     "evalue": "Cannot index by location index with a non-integer key",
     "output_type": "error",
     "traceback": [
      "\u001b[0;31m---------------------------------------------------------------------------\u001b[0m",
      "\u001b[0;31mTypeError\u001b[0m                                 Traceback (most recent call last)",
      "\u001b[0;32m/var/folders/vy/61q2hg6j75vdf08b96dmw_6c0000gn/T/ipykernel_10783/2015739311.py\u001b[0m in \u001b[0;36m<module>\u001b[0;34m\u001b[0m\n\u001b[1;32m      5\u001b[0m \u001b[0mtokens\u001b[0m \u001b[0;34m=\u001b[0m \u001b[0;34m[\u001b[0m\u001b[0;34m]\u001b[0m\u001b[0;34m\u001b[0m\u001b[0;34m\u001b[0m\u001b[0m\n\u001b[1;32m      6\u001b[0m \u001b[0;32mfor\u001b[0m \u001b[0mdefinition\u001b[0m \u001b[0;32min\u001b[0m \u001b[0mdefs\u001b[0m\u001b[0;34m:\u001b[0m\u001b[0;34m\u001b[0m\u001b[0;34m\u001b[0m\u001b[0m\n\u001b[0;32m----> 7\u001b[0;31m     \u001b[0;32mif\u001b[0m \u001b[0mdf\u001b[0m\u001b[0;34m.\u001b[0m\u001b[0miloc\u001b[0m\u001b[0;34m[\u001b[0m\u001b[0mdefinition\u001b[0m\u001b[0;34m]\u001b[0m \u001b[0;32mis\u001b[0m \u001b[0;32mnot\u001b[0m \u001b[0;32mNone\u001b[0m\u001b[0;34m:\u001b[0m\u001b[0;34m\u001b[0m\u001b[0;34m\u001b[0m\u001b[0m\n\u001b[0m\u001b[1;32m      8\u001b[0m         \u001b[0mprint\u001b[0m\u001b[0;34m(\u001b[0m\u001b[0mdefinition\u001b[0m\u001b[0;34m)\u001b[0m\u001b[0;34m\u001b[0m\u001b[0;34m\u001b[0m\u001b[0m\n\u001b[1;32m      9\u001b[0m \u001b[0;34m\u001b[0m\u001b[0m\n",
      "\u001b[0;32m~/opt/anaconda3/lib/python3.9/site-packages/pandas/core/indexing.py\u001b[0m in \u001b[0;36m__getitem__\u001b[0;34m(self, key)\u001b[0m\n\u001b[1;32m    929\u001b[0m \u001b[0;34m\u001b[0m\u001b[0m\n\u001b[1;32m    930\u001b[0m             \u001b[0mmaybe_callable\u001b[0m \u001b[0;34m=\u001b[0m \u001b[0mcom\u001b[0m\u001b[0;34m.\u001b[0m\u001b[0mapply_if_callable\u001b[0m\u001b[0;34m(\u001b[0m\u001b[0mkey\u001b[0m\u001b[0;34m,\u001b[0m \u001b[0mself\u001b[0m\u001b[0;34m.\u001b[0m\u001b[0mobj\u001b[0m\u001b[0;34m)\u001b[0m\u001b[0;34m\u001b[0m\u001b[0;34m\u001b[0m\u001b[0m\n\u001b[0;32m--> 931\u001b[0;31m             \u001b[0;32mreturn\u001b[0m \u001b[0mself\u001b[0m\u001b[0;34m.\u001b[0m\u001b[0m_getitem_axis\u001b[0m\u001b[0;34m(\u001b[0m\u001b[0mmaybe_callable\u001b[0m\u001b[0;34m,\u001b[0m \u001b[0maxis\u001b[0m\u001b[0;34m=\u001b[0m\u001b[0maxis\u001b[0m\u001b[0;34m)\u001b[0m\u001b[0;34m\u001b[0m\u001b[0;34m\u001b[0m\u001b[0m\n\u001b[0m\u001b[1;32m    932\u001b[0m \u001b[0;34m\u001b[0m\u001b[0m\n\u001b[1;32m    933\u001b[0m     \u001b[0;32mdef\u001b[0m \u001b[0m_is_scalar_access\u001b[0m\u001b[0;34m(\u001b[0m\u001b[0mself\u001b[0m\u001b[0;34m,\u001b[0m \u001b[0mkey\u001b[0m\u001b[0;34m:\u001b[0m \u001b[0mtuple\u001b[0m\u001b[0;34m)\u001b[0m\u001b[0;34m:\u001b[0m\u001b[0;34m\u001b[0m\u001b[0;34m\u001b[0m\u001b[0m\n",
      "\u001b[0;32m~/opt/anaconda3/lib/python3.9/site-packages/pandas/core/indexing.py\u001b[0m in \u001b[0;36m_getitem_axis\u001b[0;34m(self, key, axis)\u001b[0m\n\u001b[1;32m   1561\u001b[0m             \u001b[0mkey\u001b[0m \u001b[0;34m=\u001b[0m \u001b[0mitem_from_zerodim\u001b[0m\u001b[0;34m(\u001b[0m\u001b[0mkey\u001b[0m\u001b[0;34m)\u001b[0m\u001b[0;34m\u001b[0m\u001b[0;34m\u001b[0m\u001b[0m\n\u001b[1;32m   1562\u001b[0m             \u001b[0;32mif\u001b[0m \u001b[0;32mnot\u001b[0m \u001b[0mis_integer\u001b[0m\u001b[0;34m(\u001b[0m\u001b[0mkey\u001b[0m\u001b[0;34m)\u001b[0m\u001b[0;34m:\u001b[0m\u001b[0;34m\u001b[0m\u001b[0;34m\u001b[0m\u001b[0m\n\u001b[0;32m-> 1563\u001b[0;31m                 \u001b[0;32mraise\u001b[0m \u001b[0mTypeError\u001b[0m\u001b[0;34m(\u001b[0m\u001b[0;34m\"Cannot index by location index with a non-integer key\"\u001b[0m\u001b[0;34m)\u001b[0m\u001b[0;34m\u001b[0m\u001b[0;34m\u001b[0m\u001b[0m\n\u001b[0m\u001b[1;32m   1564\u001b[0m \u001b[0;34m\u001b[0m\u001b[0m\n\u001b[1;32m   1565\u001b[0m             \u001b[0;31m# validate the location\u001b[0m\u001b[0;34m\u001b[0m\u001b[0;34m\u001b[0m\u001b[0m\n",
      "\u001b[0;31mTypeError\u001b[0m: Cannot index by location index with a non-integer key"
     ]
    }
   ],
   "source": [
    "# Remove punctuation and stopwords\n",
    "stopwords = nltk.corpus.stopwords.words('english')\n",
    "tokenizer = nltk.tokenize.RegexpTokenizer(r'\\w+')\n",
    "lemmatizer = nltk.stem.WordNetLemmatizer()\n",
    "tokens = []\n",
    "for definition in defs:\n",
    "    if df.iloc[definition] is not None:\n",
    "        print(definition)\n",
    "\n",
    "        # tokens = [word.lower() for word in tokenizer.tokenize(df[col].tolist()) if word.lower() not in stopwords]\n",
    "        # df[col] = set([lemmatizer.lemmatize(word.lower()) for word in tokenizer.tokenize(df[col].tolist()) if word.lower() not in stopwords])\n"
   ]
  }
 ],
 "metadata": {
  "kernelspec": {
   "display_name": "Python 3.9.7 ('base')",
   "language": "python",
   "name": "python3"
  },
  "language_info": {
   "codemirror_mode": {
    "name": "ipython",
    "version": 3
   },
   "file_extension": ".py",
   "mimetype": "text/x-python",
   "name": "python",
   "nbconvert_exporter": "python",
   "pygments_lexer": "ipython3",
   "version": "3.9.7"
  },
  "orig_nbformat": 4,
  "vscode": {
   "interpreter": {
    "hash": "5587bf738ccec4bb524b17f914a1c07eb93a384af8fabdf9504251bc61fb6171"
   }
  }
 },
 "nbformat": 4,
 "nbformat_minor": 2
}
