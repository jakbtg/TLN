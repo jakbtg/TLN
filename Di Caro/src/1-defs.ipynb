{
 "cells": [
  {
   "cell_type": "markdown",
   "metadata": {},
   "source": [
    "# Esercizio 1 - Definizioni"
   ]
  },
  {
   "cell_type": "code",
   "execution_count": 1,
   "metadata": {},
   "outputs": [],
   "source": [
    "import pandas as pd\n",
    "import nltk"
   ]
  },
  {
   "cell_type": "markdown",
   "metadata": {},
   "source": [
    "### Leggi il file di input\n",
    "\n",
    "Salvo le varie definizioni degli studenti in un dizionario con:\n",
    "- chiave: parola (tra Emotion, Person, Revenge, Brick)\n",
    "- valore: lista di definizioni date dagli studenti"
   ]
  },
  {
   "cell_type": "code",
   "execution_count": 77,
   "metadata": {},
   "outputs": [],
   "source": [
    "df = pd.read_excel('../data/definizioni.xlsx')\n",
    "students = df.columns[1:].tolist()\n",
    "words = df[df.columns[0]].tolist()\n",
    "def_dict = {}\n",
    "for definition in words:\n",
    "    def_dict[definition] = []\n",
    "for student in students:\n",
    "    for definition in words:\n",
    "        def_dict[definition].append(df[student][df[df.columns[0]] == definition].values[0])\n",
    "\n",
    "# def_dict"
   ]
  },
  {
   "cell_type": "markdown",
   "metadata": {},
   "source": [
    "### Ripulisci il dictionary delle definizioni"
   ]
  },
  {
   "cell_type": "code",
   "execution_count": 85,
   "metadata": {},
   "outputs": [],
   "source": [
    "# Remove punctuation and stopwords, tokenize and lemmatize definitions\n",
    "stopwords = nltk.corpus.stopwords.words('english')\n",
    "tokenizer = nltk.tokenize.RegexpTokenizer(r'\\w+')\n",
    "lemmatizer = nltk.stem.WordNetLemmatizer()\n",
    "\n",
    "# Tokenize and lemmatize definitions and remove stopwords and punctuation\n",
    "def clean_definitions(dict):\n",
    "    cleaned = dict.copy()\n",
    "    for key in cleaned:\n",
    "        definitions = [d for d in cleaned[key] if d == d]\n",
    "        tmp = []\n",
    "        for definition in definitions:\n",
    "            tmp.append([lemmatizer.lemmatize(token.lower()) for token in tokenizer.tokenize(definition) if token.lower() not in stopwords])\n",
    "        cleaned[key] = tmp\n",
    "    return cleaned\n",
    "\n",
    "clean_def_dict = clean_definitions(def_dict)\n",
    "# clean_def_dict"
   ]
  },
  {
   "cell_type": "markdown",
   "metadata": {},
   "source": [
    "### Calcola la similarità tra le definizioni\n",
    "\n",
    "Per ogni parola, calcolo la similarità tra le definizioni date dagli studenti come la sovrapposizione di parole tra le definizioni."
   ]
  },
  {
   "cell_type": "code",
   "execution_count": null,
   "metadata": {},
   "outputs": [],
   "source": [
    "# Calcolo la similarità tra le definizioni come la sovrapposizione di token tra le definizioni per ogni parola\n",
    "# Compute similarity between two definitions as the overlap of tokens of the two definitions normalized by the length of the shortest definition\n",
    "def similarity(def1, def2):\n",
    "    return len(set(def1).intersection(set(def2))) / min(len(def1), len(def2))\n",
    "\n"
   ]
  }
 ],
 "metadata": {
  "kernelspec": {
   "display_name": "Python 3.9.7 ('base')",
   "language": "python",
   "name": "python3"
  },
  "language_info": {
   "codemirror_mode": {
    "name": "ipython",
    "version": 3
   },
   "file_extension": ".py",
   "mimetype": "text/x-python",
   "name": "python",
   "nbconvert_exporter": "python",
   "pygments_lexer": "ipython3",
   "version": "3.9.7"
  },
  "orig_nbformat": 4,
  "vscode": {
   "interpreter": {
    "hash": "5587bf738ccec4bb524b17f914a1c07eb93a384af8fabdf9504251bc61fb6171"
   }
  }
 },
 "nbformat": 4,
 "nbformat_minor": 2
}
