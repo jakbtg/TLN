{
 "cells": [
  {
   "attachments": {},
   "cell_type": "markdown",
   "metadata": {},
   "source": [
    "# Esercizio 2 - Content2Form\n",
    "\n",
    "In questo esercizio partendo dalle stesse definizioni date dagli studenti usate nell'esercizio 1, si vuole provare a inferire il miglior synset corrispondente a quelle definizioni.  \n",
    "Si tratta di **Onomasiologic search**.\n",
    "\n",
    "### Idea:\n",
    "- Esattamente come nell'esercizio 1, si salva l'input in un dizionario e si pulisce il dizionario\n",
    "- Si trovano le parole più frequenti per ogni lista di definizioni relative ad ogni termine (come nell'esercizio 1)\n",
    "- Si considerano le parole più frequenti come **genus** \n",
    "- Si preleva da wordnet synset name, definition e examples per *ogni* **iponimo** di ogni **genus**\n",
    "- Si sceglie il synset con la definizione più simile alla lista delle definizioni, ovvero con più parole in comune"
   ]
  },
  {
   "cell_type": "code",
   "execution_count": 55,
   "metadata": {},
   "outputs": [],
   "source": [
    "import pandas as pd\n",
    "import nltk\n",
    "from collections import Counter\n",
    "from nltk.corpus import wordnet as wn"
   ]
  },
  {
   "cell_type": "markdown",
   "metadata": {},
   "source": [
    "### Leggi il file di input\n",
    "\n",
    "Salvo le varie definizioni degli studenti in un dizionario con:\n",
    "- chiave: parola (in ordine Emotion, Person, Revenge, Brick)\n",
    "- valore: lista di definizioni date dagli studenti"
   ]
  },
  {
   "cell_type": "code",
   "execution_count": 56,
   "metadata": {},
   "outputs": [],
   "source": [
    "df = pd.read_excel('../data/definizioni.xlsx')\n",
    "students = df.columns[1:].tolist()\n",
    "words = df[df.columns[0]].tolist()\n",
    "def_dict = {}\n",
    "for definition in words:\n",
    "    def_dict[definition] = []\n",
    "for student in students:\n",
    "    for definition in words:\n",
    "        def_dict[definition].append(df[student][df[df.columns[0]] == definition].values[0])\n",
    "\n",
    "# def_dict"
   ]
  },
  {
   "attachments": {},
   "cell_type": "markdown",
   "metadata": {},
   "source": [
    "### Ripulisci il dictionary delle definizioni\n",
    "\n",
    "Salvo le definizioni pulite in un dizionario strutturato come il precedente"
   ]
  },
  {
   "cell_type": "code",
   "execution_count": 57,
   "metadata": {},
   "outputs": [],
   "source": [
    "stopwords = nltk.corpus.stopwords.words('english')\n",
    "tokenizer = nltk.tokenize.RegexpTokenizer(r'\\w+')\n",
    "lemmatizer = nltk.stem.WordNetLemmatizer()\n",
    "\n",
    "# Tokenize and lemmatize definitions and remove stopwords and punctuation\n",
    "def clean_definitions(dict):\n",
    "    cleaned = dict.copy()\n",
    "    for key in cleaned:\n",
    "        definitions = [d for d in cleaned[key] if d == d]\n",
    "        tmp = []\n",
    "        for definition in definitions:\n",
    "            tmp.append([lemmatizer.lemmatize(token.lower()) for token in tokenizer.tokenize(definition) if token.lower() not in stopwords])\n",
    "        cleaned[key] = tmp\n",
    "    return cleaned\n",
    "\n",
    "clean_def_dict = clean_definitions(def_dict)"
   ]
  },
  {
   "attachments": {},
   "cell_type": "markdown",
   "metadata": {},
   "source": [
    "### Trova i genus\n",
    "\n",
    "Per ogni parola, calcolo le *n* parole più frequenti nelle definizioni date dagli studenti, usando la funzione `most_common` di `Counter`.  \n",
    "Queste saranno considerate i **genus**."
   ]
  },
  {
   "cell_type": "code",
   "execution_count": 91,
   "metadata": {},
   "outputs": [
    {
     "name": "stdout",
     "output_type": "stream",
     "text": [
      "Emotion [('feeling', 13), ('human', 8), ('feel', 8), ('something', 7), ('state', 5)]\n",
      "Person [('human', 29), ('person', 6), ('living', 4), ('individual', 3), ('certain', 3)]\n",
      "Revenge [('someone', 14), ('anger', 8), ('feeling', 7), ('action', 6), ('emotion', 6)]\n",
      "Brick [('used', 24), ('object', 16), ('material', 16), ('construction', 16), ('build', 13)]\n"
     ]
    }
   ],
   "source": [
    "# Get the most common words in the definitions of a word\n",
    "def get_common_words(dict, word, n):\n",
    "    words = []\n",
    "    for definition in dict[word]:\n",
    "        words += definition\n",
    "    return Counter(words).most_common(n)\n",
    "\n",
    "for word in clean_def_dict:\n",
    "    print(word, get_common_words(clean_def_dict, word, 5))"
   ]
  },
  {
   "attachments": {},
   "cell_type": "markdown",
   "metadata": {},
   "source": [
    "### Trova tutti gli iponimi di ogni genus\n",
    "\n",
    "Per ogni genus, trovo tutti gli iponimi e salvo i loro nomi, definizioni e esempi in una lista ripulita."
   ]
  },
  {
   "cell_type": "code",
   "execution_count": 144,
   "metadata": {},
   "outputs": [
    {
     "name": "stdout",
     "output_type": "stream",
     "text": [
      "{'java_man.n.01': ['fossil', 'remains', 'found', 'java', 'formerly', 'called', 'pithecanthropus', 'erectus'], 'boskop_man.n.01': ['possible', 'early', 'homo', 'sapiens', 'represented', 'cranium', 'found', 'transvaal', 'formerly', 'considered', 'separate', 'specie'], 'neandertal_man.n.01': ['extinct', 'robust', 'human', 'middle', 'paleolithic', 'europe', 'western', 'asia'], 'homo_erectus.n.01': ['homo', 'erectus', 'formerly', 'called', 'pithecanthropus', 'erectus'], 'homo_sapiens_sapiens.n.01': ['subspecies', 'homo', 'sapiens', 'includes', 'modern', 'race'], 'world.n.08': ['always', 'used', 'humankind', 'mankind', 'seemed', 'slight', 'woman'], 'rhodesian_man.n.01': ['primitive', 'hominid', 'resembling', 'neanderthal', 'man', 'living', 'africa'], 'peking_man.n.01': ['fossil', 'found', 'near', 'beijing', 'china', 'lost', 'world', 'war', 'ii'], 'solo_man.n.01': ['early', 'man', 'late', 'pleistocene', 'skull', 'resembles', 'neanderthal', 'man', 'smaller', 'cranial', 'capacity', 'found', 'java'], 'homo_soloensis.n.01': ['extinct', 'primitive', 'hominid', 'late', 'pleistocene', 'java', 'formerly', 'javanthropus'], 'homo_sapiens.n.01': ['surviving', 'hominid', 'specie', 'modern', 'man', 'belongs', 'bipedal', 'primate', 'language', 'ability', 'make', 'use', 'complex', 'tool', 'brain', 'volume', 'least', '1400', 'cc'], 'homo_habilis.n.01': ['extinct', 'specie', 'upright', 'east', 'african', 'hominid', 'advanced', 'humanlike', 'characteristic'], 'cro-magnon.n.01': ['extinct', 'human', 'upper', 'paleolithic', 'europe']}\n"
     ]
    }
   ],
   "source": [
    "# Find all hyponyms for all synsets of a word\n",
    "def find_hyponyms(word):\n",
    "    synsets = wn.synsets(word)\n",
    "    hyponyms = []\n",
    "    for synset in synsets:\n",
    "        # hyponyms += synset.hyponyms()\n",
    "        # Closure is used to get all hyponyms for all direct hyponyms\n",
    "        hyponyms += synset.closure(lambda s:s.hyponyms())\n",
    "    return set(hyponyms)\n",
    "\n",
    "# Save hyponyms name, definition and examples in a dictionary for a genus (frequent word)\n",
    "def get_genus_hypo_dict(word):\n",
    "    hyponyms = find_hyponyms(word)\n",
    "    hyponyms_dict = {}\n",
    "    for hyponym in hyponyms:\n",
    "        defs = hyponym.definition()\n",
    "        examples = hyponym.examples()\n",
    "        tmp = []\n",
    "        tmp.append(defs)\n",
    "        for example in examples:\n",
    "            tmp.append(example)\n",
    "        hyponyms_dict[hyponym.name()] = tmp\n",
    "\n",
    "    return hyponyms_dict\n",
    "\n",
    "# Preprocess hyponyms definition and examples\n",
    "def clean_hyponyms_dict(dict):\n",
    "    cleaned = dict.copy()\n",
    "    for key in cleaned:\n",
    "        for definition in cleaned[key]:\n",
    "            cleaned[key] = [lemmatizer.lemmatize(token.lower()) for token in tokenizer.tokenize(definition) if token.lower() not in stopwords]\n",
    "    return cleaned\n",
    "\n",
    "hypo = get_genus_hypo_dict('human')\n",
    "cleaned = clean_hyponyms_dict(hypo)\n",
    "# print(hypo)\n",
    "print(cleaned)"
   ]
  },
  {
   "attachments": {},
   "cell_type": "markdown",
   "metadata": {},
   "source": [
    "### Trova il synset più simile alle definizioni\n",
    "\n",
    "Per ogni iponimo, calcolo la similarità tra la lista delle definizioni date dagli studenti e la definizione dell'iponimo.  \n",
    "La similarità è calcolata come il numero di parole in comune tra le due liste."
   ]
  },
  {
   "cell_type": "code",
   "execution_count": 145,
   "metadata": {},
   "outputs": [
    {
     "name": "stdout",
     "output_type": "stream",
     "text": [
      "['feeling', 'human', 'feel', 'something']\n",
      "{'java_man.n.01': ['fossil', 'remains', 'found', 'java', 'formerly', 'called', 'pithecanthropus', 'erectus'], 'boskop_man.n.01': ['possible', 'early', 'homo', 'sapiens', 'represented', 'cranium', 'found', 'transvaal', 'formerly', 'considered', 'separate', 'specie'], 'neandertal_man.n.01': ['extinct', 'robust', 'human', 'middle', 'paleolithic', 'europe', 'western', 'asia'], 'homo_erectus.n.01': ['homo', 'erectus', 'formerly', 'called', 'pithecanthropus', 'erectus'], 'homo_sapiens_sapiens.n.01': ['subspecies', 'homo', 'sapiens', 'includes', 'modern', 'race'], 'world.n.08': ['always', 'used', 'humankind', 'mankind', 'seemed', 'slight', 'woman'], 'rhodesian_man.n.01': ['primitive', 'hominid', 'resembling', 'neanderthal', 'man', 'living', 'africa'], 'peking_man.n.01': ['fossil', 'found', 'near', 'beijing', 'china', 'lost', 'world', 'war', 'ii'], 'solo_man.n.01': ['early', 'man', 'late', 'pleistocene', 'skull', 'resembles', 'neanderthal', 'man', 'smaller', 'cranial', 'capacity', 'found', 'java'], 'homo_soloensis.n.01': ['extinct', 'primitive', 'hominid', 'late', 'pleistocene', 'java', 'formerly', 'javanthropus'], 'homo_sapiens.n.01': ['surviving', 'hominid', 'specie', 'modern', 'man', 'belongs', 'bipedal', 'primate', 'language', 'ability', 'make', 'use', 'complex', 'tool', 'brain', 'volume', 'least', '1400', 'cc'], 'homo_habilis.n.01': ['extinct', 'specie', 'upright', 'east', 'african', 'hominid', 'advanced', 'humanlike', 'characteristic'], 'cro-magnon.n.01': ['extinct', 'human', 'upper', 'paleolithic', 'europe']}\n",
      "neandertal_man.n.01\n"
     ]
    }
   ],
   "source": [
    "# Compute the similarity between the list of definitions of a word and the definition of a hyponym as the number of common words\n",
    "def compute_similarity(def_dict, word, hyponym, cleaned_hypo_dict):\n",
    "    similarity = 0\n",
    "    for definition in def_dict[word]:\n",
    "        for word in definition:\n",
    "            if word in cleaned_hypo_dict[hyponym]:\n",
    "                # print(f'Definition: {definition}')\n",
    "                # print(f'Hyponym name: {hyponym}')\n",
    "                # print(f'Common word: {word}')\n",
    "                similarity += 1\n",
    "    return similarity\n",
    "\n",
    "# Find the most similar hyponym computing the similarity for all hyponyms\n",
    "def find_most_similar_hypo(def_dict, word, cleaned_hypo_dict):\n",
    "    most_similar = ''\n",
    "    max_similarity = 0\n",
    "    for hypo in cleaned_hypo_dict:\n",
    "        similarity = compute_similarity(def_dict, word, hypo, cleaned_hypo_dict)\n",
    "        if similarity > max_similarity:\n",
    "            max_similarity = similarity\n",
    "            most_similar = hypo\n",
    "    # most_similar = most_similar.split('.')[0]\n",
    "    return most_similar\n",
    "\n",
    "# -- PROBABLY NOT NEEDED --\n",
    "# Get all hyponyms dicts for a list of words\n",
    "def hyponyms_list(list):\n",
    "    hyponyms = []\n",
    "    for word in list:\n",
    "        hyponyms += get_hyponyms_dict(word)\n",
    "    return hyponyms\n",
    "\n",
    "# -- PROBABLY NOT NEEDED --\n",
    "# Clean a list of hypo dicts\n",
    "def clean_hyponyms_list(list):\n",
    "    cleaned = list.copy()\n",
    "    for i in range(len(cleaned)):\n",
    "        cleaned[i] = clean_hyponyms_dict(cleaned[i])\n",
    "    return cleaned\n",
    "\n",
    "# Find the most similar hyponym for all words\n",
    "# def find_most_similar_hyponyms(dict):\n",
    "#     most_similar = {}\n",
    "#     for word in dict:\n",
    "#         most_similar[word] = find_most_similar_syn(dict, word)\n",
    "#     return most_similar\n",
    "\n",
    "\n",
    "# for word in clean_def_dict:\n",
    "#     freq_words = get_common_words(clean_def_dict, word, 2)\n",
    "#     print(word, freq_words)\n",
    "#     for freq_word in freq_words:\n",
    "#         print(freq_word[0], find_most_similar_hyponym(clean_def_dict, freq_word[0]))\n",
    "\n",
    "# Find the most similar hyponym for all genus (frequent words)\n",
    "def find_most_similar_hyponyms(dict):\n",
    "\n",
    "\n",
    "word = 'Emotion'\n",
    "freq_words = get_common_words(clean_def_dict, word, 4)\n",
    "freqs = []\n",
    "for freq in freq_words: \n",
    "    freqs.append(freq[0])\n",
    "print(freqs)\n",
    "hypos = get_genus_hypo_dict(freqs[1])\n",
    "# print(hypos)\n",
    "hypo_cleaned = clean_hyponyms_dict(hypos)\n",
    "print(hypo_cleaned)\n",
    "# for hypo in hypo_cleaned:\n",
    "    # print(compute_similarity(clean_def_dict, word, hypo, hypo_cleaned))\n",
    "print(find_most_similar_hypo(clean_def_dict, word, hypo_cleaned))\n",
    "\n"
   ]
  }
 ],
 "metadata": {
  "kernelspec": {
   "display_name": "base",
   "language": "python",
   "name": "python3"
  },
  "language_info": {
   "codemirror_mode": {
    "name": "ipython",
    "version": 3
   },
   "file_extension": ".py",
   "mimetype": "text/x-python",
   "name": "python",
   "nbconvert_exporter": "python",
   "pygments_lexer": "ipython3",
   "version": "3.9.7"
  },
  "orig_nbformat": 4,
  "vscode": {
   "interpreter": {
    "hash": "5587bf738ccec4bb524b17f914a1c07eb93a384af8fabdf9504251bc61fb6171"
   }
  }
 },
 "nbformat": 4,
 "nbformat_minor": 2
}
