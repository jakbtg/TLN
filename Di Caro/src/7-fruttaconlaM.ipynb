{
 "cells": [
  {
   "attachments": {},
   "cell_type": "markdown",
   "metadata": {},
   "source": [
    "# Esercizio 7 - Frutta con la M\n",
    "\n",
    "Il file di input da cui vengono estratte a caso le categorie corrispondo a delle parole cercate su WordNet: ho appositamente cercato categorie che più si apprestano allo scopo del gioco. Non troppo generiche, in modo da non avere una esplosione di iponimi indiretti. Ma nemmeno troppo specifiche, in modo da non averne troppi pochi.  \n",
    "Nonostante questo per alcune categorie, come ad esempio \"city\", \"job\" o \"color\", i risultati del computer sono comunque spesso troppo generici: ad esempio con la lettera \"P\" il computer ha trovato rispettivamente \"provincial capital\", \"position\" e \"protective coloration\".  \n",
    "Per cui per migliorare il gioco si potrebbe migliorare la qualità delle categorie in input.  \n",
    "\n",
    "Nella ricerca degli iponimi il mio algoritmo cerca solo gli iponimi relativi al primo synset della parola data. Nel file infatti ho inserito parole intendendo come significato quello del primo synset, ovvero quello che più ci si aspetta.  \n",
    "Ad esempio per la parola \"fruit\" cerco iponimi solo per la \"frutta\" (mele, pere, ...) e non per il possibile significato figurato \"the consequence of some effort or action\".  \n",
    "Dopotutto anche nella vita reale viene giocato così.  \n",
    "Il gioco è \"clemente\" nel senso che se il giocatore è arrivato all'input dell'ultima parola e il tempo scade, il gioco non termina finchè l'utente non inserisce qualcosa.  \n",
    "Inoltre il gioco non valuta la risposta dell'utente, si suppone quindi la correttezza delle risposte.  \n",
    "\n",
    "## Istruzioni per giocare\n",
    "\n",
    "- Per giocare fare run dell'ultima cella\n",
    "- Inserire in ordine un esempio delle categorie con la lettera data (categorie e lettere sono stampate a video)\n",
    "- Se non si riesce a trovare un esempio per una categoria premere invio con la stringa vuota, altrimenti sarebbe considerato come un punto\n",
    "- Il gioco termina quando si inseriscono 4 esempi (o stringhe vuote) o quando il tempo scade\n",
    "- Chi ha trovato più esempi vince!\n",
    "  \n",
    "*Nota*: Battere il computer è molto difficile, anche pensando di giocare in italiano.  "
   ]
  },
  {
   "cell_type": "code",
   "execution_count": 1,
   "metadata": {},
   "outputs": [],
   "source": [
    "import nltk\n",
    "from nltk.corpus import wordnet as wn\n",
    "import random\n",
    "import time"
   ]
  },
  {
   "attachments": {},
   "cell_type": "markdown",
   "metadata": {},
   "source": [
    "## Cerca esempi negli iponimi\n",
    "\n",
    "Data una categoria cerca su WordNet trova tutti gli iponimi (diretti e indiretti) relativi al suo primo synset.  \n",
    "Restituisce il primo esempio che trova che inizia con la lettera data."
   ]
  },
  {
   "cell_type": "code",
   "execution_count": 2,
   "metadata": {},
   "outputs": [],
   "source": [
    "# Given a word find all its hyponyms for its first synset\n",
    "def get_hyponyms(word):\n",
    "    first_synset = wn.synsets(word)[0]\n",
    "    # print(first_synset.name())\n",
    "    # print(first_synset.definition())\n",
    "    hyponyms = first_synset.closure(lambda s:s.hyponyms())\n",
    "    return set(hyponyms)\n",
    "\n",
    "# Given a letter and a list of hyponyms find a hypo that starts with the letter\n",
    "def find_hypo(letter, hyponyms):\n",
    "    for hypo in hyponyms:\n",
    "        if hypo.name().startswith(letter):\n",
    "            name = hypo.lemma_names()[0]\n",
    "            name = name.replace('_', ' ')\n",
    "            return name\n",
    "    return None"
   ]
  },
  {
   "attachments": {},
   "cell_type": "markdown",
   "metadata": {},
   "source": [
    "## Gioco\n",
    "\n",
    "Il gioco consiste nel trovare un esempio di un oggetto per ogni categoria che inizia con la lettera data.  \n",
    "Le categorie sono scelte randomicamente dal file `categories.txt`, 4 alla volta.  \n",
    "  \n",
    "Il giocatore avrà 30 secondi per trovare un esempio per ogni categoria. Al termine verranno confrontati i risultati con quelli ottenuti dal programma.  \n",
    "Chi ha trovato più esempi vince!"
   ]
  },
  {
   "cell_type": "code",
   "execution_count": 12,
   "metadata": {},
   "outputs": [
    {
     "name": "stdout",
     "output_type": "stream",
     "text": [
      "--------------------------------------------------\n",
      "START GAME!\n",
      "\n",
      "Categories: ['tree', 'color', 'city', 'job']\n",
      "Letter: P\n",
      "--------------------------------------------------\n",
      "TIME IS UP!\n",
      "AI: ['pomegranate', 'protective coloration', 'provincial capital', 'position']\n",
      "USER: ['palma', 'prugna', 'palermo', 'professore']\n",
      "USER WINS!\n"
     ]
    }
   ],
   "source": [
    "# Save categories from the input file\n",
    "categories = []\n",
    "with open('../data/categories.txt', 'r') as f:\n",
    "    for line in f:\n",
    "        categories.append(line.strip())\n",
    "\n",
    "letters = 'abcdefghijklmnopqrstuvwxyz'\n",
    "\n",
    "# GAME!\n",
    "def play_game():\n",
    "    rand_categories = random.sample(categories, 4)\n",
    "    rand_letter = random.choice(letters)\n",
    "    \n",
    "    results_ai = []\n",
    "    results_user = []\n",
    "    print('-' * 50)\n",
    "    print('START GAME!\\n')\n",
    "    print(f'Categories: {rand_categories}')\n",
    "    print(f'Letter: {rand_letter.upper()}')\n",
    "    # AI\n",
    "    for category in rand_categories:\n",
    "        hyponyms = get_hyponyms(category)\n",
    "        results_ai.append(find_hypo(rand_letter, hyponyms))\n",
    "    start_time = time.time()\n",
    "    # USER\n",
    "    while time.time() < start_time + 30 and len(results_user) < 4:\n",
    "        user_input = input(f'Insert a word: ')\n",
    "        results_user.append(user_input)\n",
    "\n",
    "    print('-' * 50)\n",
    "    print('TIME IS UP!')\n",
    "    print(f'AI: {results_ai}')\n",
    "    print(f'USER: {results_user}')\n",
    "    ai_score = 0\n",
    "    user_score = 0\n",
    "    for i in range(len(results_ai)):\n",
    "        if results_ai[i] is not None:\n",
    "            ai_score += 1\n",
    "    for i in range(len(results_user)):\n",
    "        if results_user[i] != '':\n",
    "            user_score += 1\n",
    "    winner = 'AI' if ai_score > user_score else 'USER'\n",
    "    print(f'{winner} WINS!')\n",
    "\n",
    "play_game()"
   ]
  }
 ],
 "metadata": {
  "kernelspec": {
   "display_name": "Python 3",
   "language": "python",
   "name": "python3"
  },
  "language_info": {
   "codemirror_mode": {
    "name": "ipython",
    "version": 3
   },
   "file_extension": ".py",
   "mimetype": "text/x-python",
   "name": "python",
   "nbconvert_exporter": "python",
   "pygments_lexer": "ipython3",
   "version": "3.9.1 (v3.9.1:1e5d33e9b9, Dec  7 2020, 12:10:52) \n[Clang 6.0 (clang-600.0.57)]"
  },
  "orig_nbformat": 4,
  "vscode": {
   "interpreter": {
    "hash": "aee8b7b246df8f9039afb4144a1f6fd8d2ca17a180786b69acc140d282b71a49"
   }
  }
 },
 "nbformat": 4,
 "nbformat_minor": 2
}
