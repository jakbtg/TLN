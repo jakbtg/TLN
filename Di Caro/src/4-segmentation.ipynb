{
 "cells": [
  {
   "attachments": {},
   "cell_type": "markdown",
   "metadata": {},
   "source": [
    "# Esercizio 4 - Segmentation\n",
    "\n",
    "**Commenti:**  \n",
    "Avevo iniziato con il *cosine similarity approach*, ma non sono purtroppo riuscito a farlo funzionare in modo soddisfacente per trovare i tagli.  \n",
    "Ho quindi deciso di provare con un approccio molto più banale, ma che ha dato risultati enormemente migliori.  \n",
    "Per entrambi gli approcci ho usato la libreria *nltk* per la tokenizzazione, la lemmatizzazione e la rimozione delle stopwords del testo.\n",
    "\n",
    "## File di input\n",
    "\n",
    "Come file di input uso un file di testo contenente un po' di paragrafi presi da Wikipedia riguardo a 4 argomenti diversi:\n",
    "- Lebanon\n",
    "- Racing bike\n",
    "- Labrador retriever\n",
    "- Indie rock  \n",
    "\n",
    "I tagli che dovrebbe trovare il mio algoritmo sono alla linea 27-28, alla linea 58-59 e alla linea 97-98.\n"
   ]
  },
  {
   "cell_type": "code",
   "execution_count": 111,
   "metadata": {},
   "outputs": [],
   "source": [
    "import nltk\n",
    "from nltk.corpus import stopwords\n",
    "from nltk.tokenize import RegexpTokenizer\n",
    "from nltk.stem import WordNetLemmatizer\n",
    "import numpy as np\n",
    "from sklearn.metrics.pairwise import cosine_similarity\n",
    "import matplotlib.pyplot as plt\n",
    "from scipy.signal import find_peaks\n",
    "from collections import Counter"
   ]
  },
  {
   "attachments": {},
   "cell_type": "markdown",
   "metadata": {},
   "source": [
    "### Preprocessing del file di input"
   ]
  },
  {
   "cell_type": "code",
   "execution_count": 112,
   "metadata": {},
   "outputs": [],
   "source": [
    "data = []\n",
    "with open('../data/wiki.txt', 'r') as f:\n",
    "    for line in f:\n",
    "        data.append(line.strip())\n",
    "    \n",
    "lemmatizer = WordNetLemmatizer()\n",
    "tokenizer = RegexpTokenizer(r'\\w+')\n",
    "stop_words = stopwords.words('english')\n",
    "\n",
    "preprocessed_data = []\n",
    "for line in data:\n",
    "    words = [lemmatizer.lemmatize(token.lower()) for token in tokenizer.tokenize(line) if token.lower() not in stop_words] \n",
    "    preprocessed_data.append(words)"
   ]
  },
  {
   "attachments": {},
   "cell_type": "markdown",
   "metadata": {},
   "source": [
    "# Random approach\n",
    "\n",
    "## Idea:\n",
    "\n",
    "- Scelgo randomicamente dei tagli (occorre sapere il numero di tagli)\n",
    "- Taglio il documento di input preprocessato in base ai tagli scelti\n",
    "- Seleziono le parole presenti nei segmenti ritagliati\n",
    "- Calcolo la similarity del segment: è data dalla somma della frequenza delle *n* parole più comuni all'interno del segment, più è alta più il segment è consistente.\n",
    "- Calcolo la somma delle similarity dei segments per sapere la correttezza dei tagli scelti.\n",
    "- Ripeto il processo n volte e scelgo i tagli che danno la somma più alta.\n"
   ]
  },
  {
   "cell_type": "code",
   "execution_count": 113,
   "metadata": {},
   "outputs": [],
   "source": [
    "# Get the segments given a start and end point\n",
    "def get_segments(document, start, end):\n",
    "    segment = []\n",
    "    for i in range(start, end):\n",
    "        segment.append(document[i])\n",
    "    return segment\n",
    "\n",
    "# Get words given a segment\n",
    "def get_words(segment):\n",
    "    words = []\n",
    "    for line in segment:\n",
    "        for word in line:\n",
    "            words.append(word)\n",
    "    return words\n",
    "\n",
    "# Get similarity of a segment as the sum of n most common words counts in the segment\n",
    "def get_count_sim(segment, n):\n",
    "    words = []\n",
    "    for word in segment:\n",
    "        words.append(word)\n",
    "    count_freq_words = Counter(words)\n",
    "    score = 0\n",
    "    for word, count in count_freq_words.most_common(n):\n",
    "        score += count\n",
    "    return score, count_freq_words.most_common(n)\n",
    "\n",
    "# Get random cut points given the number of lines in the document and the number of segments\n",
    "def get_random_cut_points(n_lines, n_segments):\n",
    "    cut_points = [0,0,0,0]\n",
    "    for i in range(1, n_segments): # 1 has to be 0\n",
    "        cut_points[i] = np.random.randint(1, n_lines - 1) # In between line 1 and (last line - 1)\n",
    "    cut_points.append(n_lines)\n",
    "    return sorted(cut_points)\n",
    "\n",
    "# Run for n iterations and return the best cut points\n",
    "def get_best_cut_points(n_iterations, n_segments, n_lines, n_words, document):\n",
    "    segment_scores = [0,0,0,0]\n",
    "    total_segment_score = 0\n",
    "    best_score = 0\n",
    "    best_cut_points = []\n",
    "    for i in range(n_iterations):\n",
    "        cut_points = get_random_cut_points(n_lines, n_segments)\n",
    "        for i in range(len(cut_points) - 1):\n",
    "            segment = get_segments(document, cut_points[i], cut_points[i+1])\n",
    "            words = get_words(segment)\n",
    "            segment_scores[i] = get_count_sim(words, n_words)[0]\n",
    "        total_segment_score = sum(segment_scores)\n",
    "        if total_segment_score > best_score:\n",
    "            best_score = total_segment_score\n",
    "            best_cut_points = cut_points\n",
    "    return best_cut_points, best_score"
   ]
  },
  {
   "attachments": {},
   "cell_type": "markdown",
   "metadata": {},
   "source": [
    "### Risultati del random approach"
   ]
  },
  {
   "cell_type": "code",
   "execution_count": 114,
   "metadata": {},
   "outputs": [
    {
     "name": "stdout",
     "output_type": "stream",
     "text": [
      "Cut point 1: 27\n",
      "Cut point 2: 58\n",
      "Cut point 3: 95\n",
      "Best score: 992\n"
     ]
    }
   ],
   "source": [
    "# Try with different number of frequent words and iterations\n",
    "# The number of segments is fixed to 4, since the input document is always the same\n",
    "n_iterations = 10000\n",
    "n_lines = len(preprocessed_data)\n",
    "n_freq_words = 15\n",
    "n_segments = 4\n",
    "cut_points, best_score = get_best_cut_points(n_iterations, n_segments, n_lines, n_freq_words, preprocessed_data)\n",
    "for i in range(1, len(cut_points) - 1):\n",
    "    print(f'Cut point {i}: {cut_points[i]}')\n",
    "print(f'Best score: {best_score}')"
   ]
  },
  {
   "attachments": {},
   "cell_type": "markdown",
   "metadata": {},
   "source": [
    "### Salvataggio dell'output"
   ]
  },
  {
   "cell_type": "code",
   "execution_count": 115,
   "metadata": {},
   "outputs": [],
   "source": [
    "# Split the original document in segments\n",
    "random_segments = []\n",
    "random_cuts = cut_points\n",
    "for i in range(len(random_cuts) - 1):\n",
    "    random_segments.append(get_segments(data, random_cuts[i], random_cuts[i+1]))\n",
    "\n",
    "# Save the results in a file\n",
    "with open('../output/random-segments.txt', 'w') as f:\n",
    "    for segment in random_segments:\n",
    "        f.write('\\n\\nSEGMENT\\n')\n",
    "        for line in segment:\n",
    "            f.write(line + '\\n')"
   ]
  },
  {
   "attachments": {},
   "cell_type": "markdown",
   "metadata": {},
   "source": [
    "# Cosine similarity approach\n",
    "\n",
    "## Idea:\n",
    "\n",
    "- Creo lista di tutte le parole presenti nel file di input preprocessato\n",
    "- Per ogni paragrafo del file di input preprocessato, creo un vettore di lunghezza pari al numero di parole presenti nel file di input preprocessato (senza ripetizioni), in cui ogni elemento è la frequenza della parola corrispondente\n",
    "- Ogni paragraph considerato avrà dimensione n, ovvero gruppi di n parole consecutive del file di input preprocessato\n",
    "- Calcolo la cosine similarity tra ogni paragrafo e il paragrafo successivo. Utilizzo la funzione *cosine_similarity* della libreria *sklearn*\n",
    "- Posiziono i tagli negli n punti di minimo locale della cosine similarity più bassi, dove n è il numero degli argomenti che voglio individuare nel file di input - 1. Utilizzo la funzione *find_peaks* della libreria *scipy.signal* per trovare i punti di minimo locale\n"
   ]
  },
  {
   "attachments": {},
   "cell_type": "markdown",
   "metadata": {},
   "source": [
    "### Creo una lista di tutte le relevant words del file di input in ordine di apparizione\n",
    "\n",
    "Con ripetizioni, ovvero trasformo in una lista di parole il file di input preprocessato"
   ]
  },
  {
   "cell_type": "code",
   "execution_count": 116,
   "metadata": {},
   "outputs": [
    {
     "name": "stdout",
     "output_type": "stream",
     "text": [
      "Number of words in the document: 5115\n",
      "Number of unique words in the document: 2160\n"
     ]
    }
   ],
   "source": [
    "# Convert preprocessed data to a list\n",
    "doc = []\n",
    "for line in preprocessed_data:\n",
    "    for word in line:\n",
    "        doc.append(word)\n",
    "\n",
    "# Remove duplicates but keep the order\n",
    "unique_words = list(dict.fromkeys(doc))\n",
    "\n",
    "print(f'Number of words in the document: {len(doc)}')\n",
    "print(f'Number of unique words in the document: {len(unique_words)}')"
   ]
  },
  {
   "attachments": {},
   "cell_type": "markdown",
   "metadata": {},
   "source": [
    "### Creo un dizionario per ogni paragrafo del file di input, dove la chiave è la parola e il valore la sua frequenza e lo trasformo in lista di frequenze"
   ]
  },
  {
   "cell_type": "code",
   "execution_count": 117,
   "metadata": {},
   "outputs": [],
   "source": [
    "# Split the document (which is a list) by a given number of words\n",
    "# Return a list of lists which is gonna be the list of paragraphs\n",
    "def split_doc(document, n):\n",
    "    return [document[i:i+n] for i in range(0, len(document), n)]\n",
    "\n",
    "# Create a dictionary with keys = all words in a document, values = word counts in a paragraph\n",
    "def paragraph_dict(paragraph, document):\n",
    "    paragraph_dict = {}\n",
    "    for word in document:\n",
    "        paragraph_dict[word] = 0\n",
    "    for word in paragraph:\n",
    "        paragraph_dict[word] += 1\n",
    "    return paragraph_dict\n",
    "\n",
    "# From the dictionary create a list of word counts\n",
    "def paragraph_list(paragraph_dict, document):\n",
    "    paragraph_list = []\n",
    "    for word in document:\n",
    "        paragraph_list.append(paragraph_dict[word])\n",
    "    return paragraph_list\n",
    "\n",
    "# Get for all paragraphs (splitted by n words) a list of word counts\n",
    "def get_paragraphs_list(document, n):\n",
    "    paragraphs = split_doc(document, n)\n",
    "    paragraphs_list = []\n",
    "    for paragraph in paragraphs:\n",
    "        paragraphs_list.append(paragraph_list(paragraph_dict(paragraph, document), document))\n",
    "    return paragraphs_list"
   ]
  },
  {
   "attachments": {},
   "cell_type": "markdown",
   "metadata": {},
   "source": [
    "### Calcolo della cosine similarity tra ogni paragraph e il paragraph successivo"
   ]
  },
  {
   "cell_type": "code",
   "execution_count": 118,
   "metadata": {},
   "outputs": [],
   "source": [
    "# Compute cosine similarity between all paragraphs\n",
    "def cos_sim(n):\n",
    "    cos_sim_list = []\n",
    "    par_list = get_paragraphs_list(doc, n)\n",
    "    for i in range(0, len(par_list) - 3):\n",
    "        par1 = par_list[i]\n",
    "        par2 = par_list[i + 1]\n",
    "        cos_sim_list.append(cosine_similarity([par1], [par2])[0][0])\n",
    "        # print(f'Paragraphs {i + 1} and {i + 2} are similar with a cosine similarity of {cos_sim_list[i]}')\n",
    "    return cos_sim_list, par_list"
   ]
  },
  {
   "attachments": {},
   "cell_type": "markdown",
   "metadata": {},
   "source": [
    "### Posiziono i tagli nei punti di minimo della cosine similarity"
   ]
  },
  {
   "cell_type": "code",
   "execution_count": 119,
   "metadata": {},
   "outputs": [],
   "source": [
    "# Search the minimums in the list of cosine similarities\n",
    "def find_mins(list):\n",
    "    list = np.array(list)*-1\n",
    "    mins = find_peaks(list)[0]\n",
    "    return mins\n",
    "\n",
    "# Get the indexes of the cut points\n",
    "def get_cut_indexes(document, n_par_words, n_cuts):\n",
    "    cos_sim_list, par_list = cos_sim(n_par_words)\n",
    "    min_indexes = find_mins(cos_sim_list)\n",
    "    mins = [cos_sim_list[i] for i in min_indexes]\n",
    "    mins = sorted(mins)[0:n_cuts]\n",
    "    cut_indexes = [cos_sim_list.index(min) for min in mins]\n",
    "    cut_indexes = sorted(cut_indexes)\n",
    "    cut_indexes = [i * n_par_words for i in cut_indexes]\n",
    "    return cut_indexes\n",
    "\n",
    "# Find cut points and cut the document\n",
    "def cut_doc(document, n_par_words, n_cuts):\n",
    "    cut_indexes = get_cut_indexes(document, n_par_words, n_cuts)\n",
    "    paragraphs = []\n",
    "    p1 = document[0:cut_indexes[0]]\n",
    "    paragraphs.append(p1)\n",
    "    p2 = document[cut_indexes[0]:cut_indexes[1]]\n",
    "    paragraphs.append(p2)\n",
    "    p3 = document[cut_indexes[1]:cut_indexes[2]]\n",
    "    paragraphs.append(p3)\n",
    "    p4 = document[cut_indexes[2]:]\n",
    "    paragraphs.append(p4)\n",
    "    return paragraphs\n",
    "\n",
    "# Try with different number of words per paragraph\n",
    "n = 100\n",
    "n_cuts = 3\n",
    "paragraphs = cut_doc(doc, n, n_cuts)"
   ]
  },
  {
   "attachments": {},
   "cell_type": "markdown",
   "metadata": {},
   "source": [
    "### Plot della cosine similarity"
   ]
  },
  {
   "cell_type": "code",
   "execution_count": 120,
   "metadata": {},
   "outputs": [
    {
     "data": {
      "image/png": "[encoded data removed]",
      "text/plain": [
       "<Figure size 864x432 with 1 Axes>"
      ]
     },
     "metadata": {
      "needs_background": "light"
     },
     "output_type": "display_data"
    }
   ],
   "source": [
    "# Plot the cosine similarity\n",
    "fig = plt.figure(figsize=(12, 6))\n",
    "plt.plot(cos_sim(n)[0])\n",
    "plt.xlabel('Paragraphs')\n",
    "plt.ylabel('Cosine similarity')\n",
    "plt.show()"
   ]
  },
  {
   "attachments": {},
   "cell_type": "markdown",
   "metadata": {},
   "source": [
    "### Salvataggio dell'output\n",
    "\n",
    "Tuttavia questo stamperà il file preprocessed, non il file di input originale."
   ]
  },
  {
   "cell_type": "code",
   "execution_count": 121,
   "metadata": {},
   "outputs": [],
   "source": [
    "# Save results to an output file\n",
    "with open('../output/cosine-segments.txt', 'w') as f:\n",
    "    f.write(f'Considering {n} words per paragraph and {n_cuts} cuts\\n')\n",
    "    for paragraph in paragraphs:\n",
    "        f.write('\\n\\nSEGMENT\\n')\n",
    "        count = 0\n",
    "        count_N = 0\n",
    "        for word in paragraph:\n",
    "            f.write(word + ' ')\n",
    "            count += 1\n",
    "            count_N += 1\n",
    "            if count == 18:\n",
    "                f.write('\\n')\n",
    "                count = 0\n",
    "            if count_N == n:\n",
    "                count_N = 0"
   ]
  }
 ],
 "metadata": {
  "kernelspec": {
   "display_name": "Python 3",
   "language": "python",
   "name": "python3"
  },
  "language_info": {
   "codemirror_mode": {
    "name": "ipython",
    "version": 3
   },
   "file_extension": ".py",
   "mimetype": "text/x-python",
   "name": "python",
   "nbconvert_exporter": "python",
   "pygments_lexer": "ipython3",
   "version": "3.9.1 (v3.9.1:1e5d33e9b9, Dec  7 2020, 12:10:52) \n[Clang 6.0 (clang-600.0.57)]"
  },
  "orig_nbformat": 4,
  "vscode": {
   "interpreter": {
    "hash": "aee8b7b246df8f9039afb4144a1f6fd8d2ca17a180786b69acc140d282b71a49"
   }
  }
 },
 "nbformat": 4,
 "nbformat_minor": 2
}
