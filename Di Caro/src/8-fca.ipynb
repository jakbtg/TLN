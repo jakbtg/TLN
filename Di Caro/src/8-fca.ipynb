{
 "cells": [
  {
   "attachments": {},
   "cell_type": "markdown",
   "metadata": {},
   "source": [
    "# Esercizio 8 - FCA\n",
    "\n",
    "Implementazione di un sistema di FCA su matrici di adiacenza a base testuale."
   ]
  },
  {
   "cell_type": "code",
   "execution_count": 12,
   "metadata": {},
   "outputs": [],
   "source": [
    "import concepts"
   ]
  },
  {
   "cell_type": "code",
   "execution_count": 31,
   "metadata": {},
   "outputs": [
    {
     "name": "stdout",
     "output_type": "stream",
     "text": [
      "('bicycle', 'scooter', 'car', 'supercar', 'bus', 'train', 'airplane', 'ship')\n",
      "(' cheap', ' medium', ' expensive', ' fast', ' slow', ' big', ' small', ' comfortable', ' uncomfortable')\n"
     ]
    },
    {
     "ename": "AttributeError",
     "evalue": "module 'concepts' has no attribute 'lattice'",
     "output_type": "error",
     "traceback": [
      "\u001b[0;31m---------------------------------------------------------------------------\u001b[0m",
      "\u001b[0;31mAttributeError\u001b[0m                            Traceback (most recent call last)",
      "Cell \u001b[0;32mIn[31], line 9\u001b[0m\n\u001b[1;32m      6\u001b[0m \u001b[39mprint\u001b[39m(data\u001b[39m.\u001b[39mproperties)\n\u001b[1;32m      8\u001b[0m \u001b[39m# Create a lattice\u001b[39;00m\n\u001b[0;32m----> 9\u001b[0m concepts\u001b[39m.\u001b[39;49mlattice\u001b[39m.\u001b[39mgraphviz(data)\n",
      "\u001b[0;31mAttributeError\u001b[0m: module 'concepts' has no attribute 'lattice'"
     ]
    }
   ],
   "source": [
    "# Load the data\n",
    "data = concepts.load_csv(\"../data/fca.csv\")\n",
    "\n",
    "# data.intension(['bicycle', 'scooter'])\n",
    "print(data.objects)\n",
    "print(data.properties)\n",
    "\n",
    "# Create a lattice\n",
    "concepts.lattice.graphviz(data)"
   ]
  }
 ],
 "metadata": {
  "kernelspec": {
   "display_name": "Python 3",
   "language": "python",
   "name": "python3"
  },
  "language_info": {
   "codemirror_mode": {
    "name": "ipython",
    "version": 3
   },
   "file_extension": ".py",
   "mimetype": "text/x-python",
   "name": "python",
   "nbconvert_exporter": "python",
   "pygments_lexer": "ipython3",
   "version": "3.9.1"
  },
  "orig_nbformat": 4,
  "vscode": {
   "interpreter": {
    "hash": "aee8b7b246df8f9039afb4144a1f6fd8d2ca17a180786b69acc140d282b71a49"
   }
  }
 },
 "nbformat": 4,
 "nbformat_minor": 2
}
