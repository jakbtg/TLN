{
 "cells": [
  {
   "attachments": {},
   "cell_type": "markdown",
   "metadata": {},
   "source": [
    "# Esercizio 6 - Ghigliottina"
   ]
  },
  {
   "cell_type": "code",
   "execution_count": 4,
   "metadata": {},
   "outputs": [],
   "source": [
    "import wikiquote"
   ]
  },
  {
   "attachments": {},
   "cell_type": "markdown",
   "metadata": {},
   "source": [
    "## Creo il corpus\n",
    "\n",
    "Il mio corpus sarà composto da:\n",
    "- i titoli di tutte le pagine italiane di Wikipedia, presenti nel file *itwiki-latest-all-titles-in-ns0.gz*\n",
    "- tutti i proverbi italiani estratti da wikiquotes, grazie alla libreria *wikiquotes*"
   ]
  },
  {
   "cell_type": "code",
   "execution_count": 11,
   "metadata": {},
   "outputs": [],
   "source": [
    "# Get the list of every quote from the page \"Proverbi italiani\"\n",
    "quotes = wikiquote.quotes(\"Proverbi italiani\", lang=\"it\")\n",
    "\n",
    "# Print the first 10 quotes\n",
    "for quote in quotes[:10]:\n",
    "    print(quote)"
   ]
  }
 ],
 "metadata": {
  "kernelspec": {
   "display_name": "Python 3",
   "language": "python",
   "name": "python3"
  },
  "language_info": {
   "codemirror_mode": {
    "name": "ipython",
    "version": 3
   },
   "file_extension": ".py",
   "mimetype": "text/x-python",
   "name": "python",
   "nbconvert_exporter": "python",
   "pygments_lexer": "ipython3",
   "version": "3.9.1"
  },
  "orig_nbformat": 4,
  "vscode": {
   "interpreter": {
    "hash": "aee8b7b246df8f9039afb4144a1f6fd8d2ca17a180786b69acc140d282b71a49"
   }
  }
 },
 "nbformat": 4,
 "nbformat_minor": 2
}
