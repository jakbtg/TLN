{
 "cells": [
  {
   "attachments": {},
   "cell_type": "markdown",
   "metadata": {},
   "source": [
    "# Esercizio 5 - Topic Modelling"
   ]
  },
  {
   "cell_type": "code",
   "execution_count": 10,
   "metadata": {},
   "outputs": [],
   "source": [
    "import wikipediaapi"
   ]
  },
  {
   "attachments": {},
   "cell_type": "markdown",
   "metadata": {},
   "source": [
    "## Creo 4 documenti di input"
   ]
  },
  {
   "cell_type": "code",
   "execution_count": 12,
   "metadata": {},
   "outputs": [],
   "source": [
    "# Try wiki api\n",
    "wiki_wiki = wikipediaapi.Wikipedia('en')\n",
    "\n",
    "lebanon_page = wiki_wiki.page('Lebanon')\n",
    "bike_page = wiki_wiki.page('Racing bicycle')\n",
    "labrador_page = wiki_wiki.page('Labrador retriever')\n",
    "indie_page = wiki_wiki.page('Indie rock')\n",
    "\n",
    "lebanon_text = lebanon_page.text\n",
    "bike_text = bike_page.text\n",
    "labrador_text = labrador_page.text\n",
    "indie_text = indie_page.text\n",
    "\n",
    "# Create documents as txt files\n",
    "with open('../data/docs/lebanon.txt', 'w') as f:\n",
    "    f.write(lebanon_text)\n",
    "\n",
    "with open('../data/docs/bike.txt', 'w') as f:\n",
    "    f.write(bike_text)\n",
    "\n",
    "with open('../data/docs/labrador.txt', 'w') as f:\n",
    "    f.write(labrador_text)\n",
    "\n",
    "with open('../data/docs/indie.txt', 'w') as f:\n",
    "    f.write(indie_text)\n"
   ]
  }
 ],
 "metadata": {
  "kernelspec": {
   "display_name": "Python 3",
   "language": "python",
   "name": "python3"
  },
  "language_info": {
   "codemirror_mode": {
    "name": "ipython",
    "version": 3
   },
   "file_extension": ".py",
   "mimetype": "text/x-python",
   "name": "python",
   "nbconvert_exporter": "python",
   "pygments_lexer": "ipython3",
   "version": "3.9.1"
  },
  "orig_nbformat": 4,
  "vscode": {
   "interpreter": {
    "hash": "aee8b7b246df8f9039afb4144a1f6fd8d2ca17a180786b69acc140d282b71a49"
   }
  }
 },
 "nbformat": 4,
 "nbformat_minor": 2
}
